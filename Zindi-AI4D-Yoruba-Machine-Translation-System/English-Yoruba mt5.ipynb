{
 "cells": [
  {
   "cell_type": "markdown",
   "metadata": {
    "id": "RLiEHvkB0uXp",
    "papermill": {
     "duration": 0.071579,
     "end_time": "2021-05-28T00:31:19.402012",
     "exception": false,
     "start_time": "2021-05-28T00:31:19.330433",
     "status": "completed"
    },
    "tags": []
   },
   "source": [
    "## Import necessary packages"
   ]
  },
  {
   "cell_type": "code",
   "execution_count": 1,
   "metadata": {
    "execution": {
     "iopub.execute_input": "2021-08-15T21:54:59.469968Z",
     "iopub.status.busy": "2021-08-15T21:54:59.469606Z",
     "iopub.status.idle": "2021-08-15T21:55:28.968724Z",
     "shell.execute_reply": "2021-08-15T21:55:28.967626Z",
     "shell.execute_reply.started": "2021-08-15T21:54:59.469891Z"
    },
    "papermill": {
     "duration": 0.109455,
     "end_time": "2021-05-28T00:31:19.580859",
     "exception": false,
     "start_time": "2021-05-28T00:31:19.471404",
     "status": "completed"
    },
    "tags": []
   },
   "outputs": [
    {
     "name": "stdout",
     "output_type": "stream",
     "text": [
      "Collecting rouge-score\n",
      "  Downloading rouge_score-0.0.4-py2.py3-none-any.whl (22 kB)\n",
      "Requirement already satisfied: nltk in /opt/conda/lib/python3.7/site-packages (from rouge-score) (3.2.4)\n",
      "Requirement already satisfied: six>=1.14.0 in /opt/conda/lib/python3.7/site-packages (from rouge-score) (1.15.0)\n",
      "Requirement already satisfied: absl-py in /opt/conda/lib/python3.7/site-packages (from rouge-score) (0.12.0)\n",
      "Requirement already satisfied: numpy in /opt/conda/lib/python3.7/site-packages (from rouge-score) (1.19.5)\n",
      "Installing collected packages: rouge-score\n",
      "Successfully installed rouge-score-0.0.4\n",
      "\u001b[33mWARNING: Running pip as root will break packages and permissions. You should install packages reliably by using venv: https://pip.pypa.io/warnings/venv\u001b[0m\n",
      "Collecting simpletransformers\n",
      "  Downloading simpletransformers-0.61.13-py3-none-any.whl (221 kB)\n",
      "\u001b[K     |████████████████████████████████| 221 kB 4.5 MB/s eta 0:00:01\n",
      "\u001b[?25hRequirement already satisfied: scikit-learn in /opt/conda/lib/python3.7/site-packages (from simpletransformers) (0.23.2)\n",
      "Collecting datasets\n",
      "  Downloading datasets-1.11.0-py3-none-any.whl (264 kB)\n",
      "\u001b[K     |████████████████████████████████| 264 kB 52.9 MB/s eta 0:00:01\n",
      "\u001b[?25hRequirement already satisfied: regex in /opt/conda/lib/python3.7/site-packages (from simpletransformers) (2021.4.4)\n",
      "Requirement already satisfied: tokenizers in /opt/conda/lib/python3.7/site-packages (from simpletransformers) (0.10.3)\n",
      "Collecting streamlit\n",
      "  Downloading streamlit-0.86.0-py2.py3-none-any.whl (8.0 MB)\n",
      "\u001b[K     |████████████████████████████████| 8.0 MB 20.2 MB/s eta 0:00:01\n",
      "\u001b[?25hRequirement already satisfied: transformers>=4.2.0 in /opt/conda/lib/python3.7/site-packages (from simpletransformers) (4.6.1)\n",
      "Requirement already satisfied: tqdm>=4.47.0 in /opt/conda/lib/python3.7/site-packages (from simpletransformers) (4.61.1)\n",
      "Requirement already satisfied: requests in /opt/conda/lib/python3.7/site-packages (from simpletransformers) (2.25.1)\n",
      "Requirement already satisfied: scipy in /opt/conda/lib/python3.7/site-packages (from simpletransformers) (1.6.3)\n",
      "Requirement already satisfied: numpy in /opt/conda/lib/python3.7/site-packages (from simpletransformers) (1.19.5)\n",
      "Requirement already satisfied: wandb>=0.10.32 in /opt/conda/lib/python3.7/site-packages (from simpletransformers) (0.10.33)\n",
      "Requirement already satisfied: sentencepiece in /opt/conda/lib/python3.7/site-packages (from simpletransformers) (0.1.96)\n",
      "Requirement already satisfied: pandas in /opt/conda/lib/python3.7/site-packages (from simpletransformers) (1.2.4)\n",
      "Requirement already satisfied: tensorboardx in /opt/conda/lib/python3.7/site-packages (from simpletransformers) (2.2)\n",
      "Collecting seqeval\n",
      "  Downloading seqeval-1.2.2.tar.gz (43 kB)\n",
      "\u001b[K     |████████████████████████████████| 43 kB 1.7 MB/s  eta 0:00:01\n",
      "\u001b[?25hRequirement already satisfied: packaging in /opt/conda/lib/python3.7/site-packages (from transformers>=4.2.0->simpletransformers) (20.9)\n",
      "Requirement already satisfied: filelock in /opt/conda/lib/python3.7/site-packages (from transformers>=4.2.0->simpletransformers) (3.0.12)\n",
      "Requirement already satisfied: importlib-metadata in /opt/conda/lib/python3.7/site-packages (from transformers>=4.2.0->simpletransformers) (3.4.0)\n",
      "Requirement already satisfied: huggingface-hub==0.0.8 in /opt/conda/lib/python3.7/site-packages (from transformers>=4.2.0->simpletransformers) (0.0.8)\n",
      "Requirement already satisfied: sacremoses in /opt/conda/lib/python3.7/site-packages (from transformers>=4.2.0->simpletransformers) (0.0.45)\n",
      "Requirement already satisfied: docker-pycreds>=0.4.0 in /opt/conda/lib/python3.7/site-packages (from wandb>=0.10.32->simpletransformers) (0.4.0)\n",
      "Requirement already satisfied: promise<3,>=2.0 in /opt/conda/lib/python3.7/site-packages (from wandb>=0.10.32->simpletransformers) (2.3)\n",
      "Requirement already satisfied: subprocess32>=3.5.3 in /opt/conda/lib/python3.7/site-packages (from wandb>=0.10.32->simpletransformers) (3.5.4)\n",
      "Requirement already satisfied: six>=1.13.0 in /opt/conda/lib/python3.7/site-packages (from wandb>=0.10.32->simpletransformers) (1.15.0)\n",
      "Requirement already satisfied: protobuf>=3.12.0 in /opt/conda/lib/python3.7/site-packages (from wandb>=0.10.32->simpletransformers) (3.17.3)\n",
      "Requirement already satisfied: shortuuid>=0.5.0 in /opt/conda/lib/python3.7/site-packages (from wandb>=0.10.32->simpletransformers) (1.0.1)\n",
      "Requirement already satisfied: python-dateutil>=2.6.1 in /opt/conda/lib/python3.7/site-packages (from wandb>=0.10.32->simpletransformers) (2.8.1)\n",
      "Requirement already satisfied: GitPython>=1.0.0 in /opt/conda/lib/python3.7/site-packages (from wandb>=0.10.32->simpletransformers) (3.1.18)\n",
      "Requirement already satisfied: pathtools in /opt/conda/lib/python3.7/site-packages (from wandb>=0.10.32->simpletransformers) (0.1.2)\n",
      "Requirement already satisfied: PyYAML in /opt/conda/lib/python3.7/site-packages (from wandb>=0.10.32->simpletransformers) (5.4.1)\n",
      "Requirement already satisfied: Click!=8.0.0,>=7.0 in /opt/conda/lib/python3.7/site-packages (from wandb>=0.10.32->simpletransformers) (7.1.2)\n",
      "Requirement already satisfied: configparser>=3.8.1 in /opt/conda/lib/python3.7/site-packages (from wandb>=0.10.32->simpletransformers) (5.0.2)\n",
      "Requirement already satisfied: psutil>=5.0.0 in /opt/conda/lib/python3.7/site-packages (from wandb>=0.10.32->simpletransformers) (5.8.0)\n",
      "Requirement already satisfied: sentry-sdk>=0.4.0 in /opt/conda/lib/python3.7/site-packages (from wandb>=0.10.32->simpletransformers) (1.2.0)\n",
      "Requirement already satisfied: typing-extensions>=3.7.4.0 in /opt/conda/lib/python3.7/site-packages (from GitPython>=1.0.0->wandb>=0.10.32->simpletransformers) (3.7.4.3)\n",
      "Requirement already satisfied: gitdb<5,>=4.0.1 in /opt/conda/lib/python3.7/site-packages (from GitPython>=1.0.0->wandb>=0.10.32->simpletransformers) (4.0.7)\n",
      "Requirement already satisfied: smmap<5,>=3.0.1 in /opt/conda/lib/python3.7/site-packages (from gitdb<5,>=4.0.1->GitPython>=1.0.0->wandb>=0.10.32->simpletransformers) (3.0.5)\n",
      "Requirement already satisfied: urllib3<1.27,>=1.21.1 in /opt/conda/lib/python3.7/site-packages (from requests->simpletransformers) (1.26.5)\n",
      "Requirement already satisfied: certifi>=2017.4.17 in /opt/conda/lib/python3.7/site-packages (from requests->simpletransformers) (2021.5.30)\n",
      "Requirement already satisfied: idna<3,>=2.5 in /opt/conda/lib/python3.7/site-packages (from requests->simpletransformers) (2.10)\n",
      "Requirement already satisfied: chardet<5,>=3.0.2 in /opt/conda/lib/python3.7/site-packages (from requests->simpletransformers) (4.0.0)\n",
      "Requirement already satisfied: pyarrow!=4.0.0,>=1.0.0 in /opt/conda/lib/python3.7/site-packages (from datasets->simpletransformers) (1.0.1)\n",
      "Requirement already satisfied: dill in /opt/conda/lib/python3.7/site-packages (from datasets->simpletransformers) (0.3.4)\n",
      "Collecting xxhash\n",
      "  Downloading xxhash-2.0.2-cp37-cp37m-manylinux2010_x86_64.whl (243 kB)\n",
      "\u001b[K     |████████████████████████████████| 243 kB 57.3 MB/s eta 0:00:01\n",
      "\u001b[?25hRequirement already satisfied: fsspec>=2021.05.0 in /opt/conda/lib/python3.7/site-packages (from datasets->simpletransformers) (2021.6.1)\n",
      "Requirement already satisfied: multiprocess in /opt/conda/lib/python3.7/site-packages (from datasets->simpletransformers) (0.70.12.2)\n",
      "Requirement already satisfied: zipp>=0.5 in /opt/conda/lib/python3.7/site-packages (from importlib-metadata->transformers>=4.2.0->simpletransformers) (3.4.1)\n",
      "Requirement already satisfied: pyparsing>=2.0.2 in /opt/conda/lib/python3.7/site-packages (from packaging->transformers>=4.2.0->simpletransformers) (2.4.7)\n",
      "Requirement already satisfied: pytz>=2017.3 in /opt/conda/lib/python3.7/site-packages (from pandas->simpletransformers) (2021.1)\n",
      "Requirement already satisfied: joblib in /opt/conda/lib/python3.7/site-packages (from sacremoses->transformers>=4.2.0->simpletransformers) (1.0.1)\n",
      "Requirement already satisfied: threadpoolctl>=2.0.0 in /opt/conda/lib/python3.7/site-packages (from scikit-learn->simpletransformers) (2.1.0)\n",
      "Requirement already satisfied: attrs in /opt/conda/lib/python3.7/site-packages (from streamlit->simpletransformers) (21.2.0)\n",
      "Collecting base58\n",
      "  Downloading base58-2.1.0-py3-none-any.whl (5.6 kB)\n",
      "Requirement already satisfied: blinker in /opt/conda/lib/python3.7/site-packages (from streamlit->simpletransformers) (1.4)\n",
      "Collecting astor\n",
      "  Downloading astor-0.8.1-py2.py3-none-any.whl (27 kB)\n",
      "Requirement already satisfied: tzlocal in /opt/conda/lib/python3.7/site-packages (from streamlit->simpletransformers) (2.1)\n",
      "Collecting validators\n",
      "  Downloading validators-0.18.2-py3-none-any.whl (19 kB)\n",
      "Collecting pydeck>=0.1.dev5\n",
      "  Downloading pydeck-0.6.2-py2.py3-none-any.whl (4.2 MB)\n",
      "\u001b[K     |████████████████████████████████| 4.2 MB 46.5 MB/s eta 0:00:01\n",
      "\u001b[?25hRequirement already satisfied: cachetools>=4.0 in /opt/conda/lib/python3.7/site-packages (from streamlit->simpletransformers) (4.2.2)\n",
      "Requirement already satisfied: pillow>=6.2.0 in /opt/conda/lib/python3.7/site-packages (from streamlit->simpletransformers) (8.2.0)\n",
      "Requirement already satisfied: altair>=3.2.0 in /opt/conda/lib/python3.7/site-packages (from streamlit->simpletransformers) (4.1.0)\n",
      "Requirement already satisfied: toml in /opt/conda/lib/python3.7/site-packages (from streamlit->simpletransformers) (0.10.2)\n",
      "Collecting watchdog\n",
      "  Downloading watchdog-2.1.3-py3-none-manylinux2014_x86_64.whl (75 kB)\n",
      "\u001b[K     |████████████████████████████████| 75 kB 3.1 MB/s  eta 0:00:01\n",
      "\u001b[?25hRequirement already satisfied: tornado>=5.0 in /opt/conda/lib/python3.7/site-packages (from streamlit->simpletransformers) (6.1)\n",
      "Requirement already satisfied: entrypoints in /opt/conda/lib/python3.7/site-packages (from altair>=3.2.0->streamlit->simpletransformers) (0.3)\n",
      "Requirement already satisfied: jinja2 in /opt/conda/lib/python3.7/site-packages (from altair>=3.2.0->streamlit->simpletransformers) (3.0.1)\n",
      "Requirement already satisfied: toolz in /opt/conda/lib/python3.7/site-packages (from altair>=3.2.0->streamlit->simpletransformers) (0.11.1)\n",
      "Requirement already satisfied: jsonschema in /opt/conda/lib/python3.7/site-packages (from altair>=3.2.0->streamlit->simpletransformers) (3.2.0)\n",
      "Requirement already satisfied: ipykernel>=5.1.2 in /opt/conda/lib/python3.7/site-packages (from pydeck>=0.1.dev5->streamlit->simpletransformers) (5.5.5)\n",
      "Requirement already satisfied: ipywidgets>=7.0.0 in /opt/conda/lib/python3.7/site-packages (from pydeck>=0.1.dev5->streamlit->simpletransformers) (7.6.3)\n",
      "Requirement already satisfied: traitlets>=4.3.2 in /opt/conda/lib/python3.7/site-packages (from pydeck>=0.1.dev5->streamlit->simpletransformers) (5.0.5)\n",
      "Requirement already satisfied: ipython>=5.0.0 in /opt/conda/lib/python3.7/site-packages (from ipykernel>=5.1.2->pydeck>=0.1.dev5->streamlit->simpletransformers) (7.24.1)\n",
      "Requirement already satisfied: jupyter-client in /opt/conda/lib/python3.7/site-packages (from ipykernel>=5.1.2->pydeck>=0.1.dev5->streamlit->simpletransformers) (6.1.12)\n",
      "Requirement already satisfied: backcall in /opt/conda/lib/python3.7/site-packages (from ipython>=5.0.0->ipykernel>=5.1.2->pydeck>=0.1.dev5->streamlit->simpletransformers) (0.2.0)\n",
      "Requirement already satisfied: setuptools>=18.5 in /opt/conda/lib/python3.7/site-packages (from ipython>=5.0.0->ipykernel>=5.1.2->pydeck>=0.1.dev5->streamlit->simpletransformers) (49.6.0.post20210108)\n",
      "Requirement already satisfied: pickleshare in /opt/conda/lib/python3.7/site-packages (from ipython>=5.0.0->ipykernel>=5.1.2->pydeck>=0.1.dev5->streamlit->simpletransformers) (0.7.5)\n",
      "Requirement already satisfied: pygments in /opt/conda/lib/python3.7/site-packages (from ipython>=5.0.0->ipykernel>=5.1.2->pydeck>=0.1.dev5->streamlit->simpletransformers) (2.9.0)\n",
      "Requirement already satisfied: jedi>=0.16 in /opt/conda/lib/python3.7/site-packages (from ipython>=5.0.0->ipykernel>=5.1.2->pydeck>=0.1.dev5->streamlit->simpletransformers) (0.18.0)\n",
      "Requirement already satisfied: prompt-toolkit!=3.0.0,!=3.0.1,<3.1.0,>=2.0.0 in /opt/conda/lib/python3.7/site-packages (from ipython>=5.0.0->ipykernel>=5.1.2->pydeck>=0.1.dev5->streamlit->simpletransformers) (3.0.19)\n",
      "Requirement already satisfied: matplotlib-inline in /opt/conda/lib/python3.7/site-packages (from ipython>=5.0.0->ipykernel>=5.1.2->pydeck>=0.1.dev5->streamlit->simpletransformers) (0.1.2)\n",
      "Requirement already satisfied: pexpect>4.3 in /opt/conda/lib/python3.7/site-packages (from ipython>=5.0.0->ipykernel>=5.1.2->pydeck>=0.1.dev5->streamlit->simpletransformers) (4.8.0)\n",
      "Requirement already satisfied: decorator in /opt/conda/lib/python3.7/site-packages (from ipython>=5.0.0->ipykernel>=5.1.2->pydeck>=0.1.dev5->streamlit->simpletransformers) (5.0.9)\n",
      "Requirement already satisfied: nbformat>=4.2.0 in /opt/conda/lib/python3.7/site-packages (from ipywidgets>=7.0.0->pydeck>=0.1.dev5->streamlit->simpletransformers) (5.1.3)\n",
      "Requirement already satisfied: widgetsnbextension~=3.5.0 in /opt/conda/lib/python3.7/site-packages (from ipywidgets>=7.0.0->pydeck>=0.1.dev5->streamlit->simpletransformers) (3.5.1)\n",
      "Requirement already satisfied: jupyterlab-widgets>=1.0.0 in /opt/conda/lib/python3.7/site-packages (from ipywidgets>=7.0.0->pydeck>=0.1.dev5->streamlit->simpletransformers) (1.0.0)\n",
      "Requirement already satisfied: parso<0.9.0,>=0.8.0 in /opt/conda/lib/python3.7/site-packages (from jedi>=0.16->ipython>=5.0.0->ipykernel>=5.1.2->pydeck>=0.1.dev5->streamlit->simpletransformers) (0.8.2)\n",
      "Requirement already satisfied: MarkupSafe>=2.0 in /opt/conda/lib/python3.7/site-packages (from jinja2->altair>=3.2.0->streamlit->simpletransformers) (2.0.1)\n",
      "Requirement already satisfied: ipython-genutils in /opt/conda/lib/python3.7/site-packages (from nbformat>=4.2.0->ipywidgets>=7.0.0->pydeck>=0.1.dev5->streamlit->simpletransformers) (0.2.0)\n",
      "Requirement already satisfied: jupyter-core in /opt/conda/lib/python3.7/site-packages (from nbformat>=4.2.0->ipywidgets>=7.0.0->pydeck>=0.1.dev5->streamlit->simpletransformers) (4.7.1)\n",
      "Requirement already satisfied: pyrsistent>=0.14.0 in /opt/conda/lib/python3.7/site-packages (from jsonschema->altair>=3.2.0->streamlit->simpletransformers) (0.17.3)\n",
      "Requirement already satisfied: ptyprocess>=0.5 in /opt/conda/lib/python3.7/site-packages (from pexpect>4.3->ipython>=5.0.0->ipykernel>=5.1.2->pydeck>=0.1.dev5->streamlit->simpletransformers) (0.7.0)\n",
      "Requirement already satisfied: wcwidth in /opt/conda/lib/python3.7/site-packages (from prompt-toolkit!=3.0.0,!=3.0.1,<3.1.0,>=2.0.0->ipython>=5.0.0->ipykernel>=5.1.2->pydeck>=0.1.dev5->streamlit->simpletransformers) (0.2.5)\n",
      "Requirement already satisfied: notebook>=4.4.1 in /opt/conda/lib/python3.7/site-packages (from widgetsnbextension~=3.5.0->ipywidgets>=7.0.0->pydeck>=0.1.dev5->streamlit->simpletransformers) (6.4.0)\n",
      "Requirement already satisfied: Send2Trash>=1.5.0 in /opt/conda/lib/python3.7/site-packages (from notebook>=4.4.1->widgetsnbextension~=3.5.0->ipywidgets>=7.0.0->pydeck>=0.1.dev5->streamlit->simpletransformers) (1.5.0)\n",
      "Requirement already satisfied: argon2-cffi in /opt/conda/lib/python3.7/site-packages (from notebook>=4.4.1->widgetsnbextension~=3.5.0->ipywidgets>=7.0.0->pydeck>=0.1.dev5->streamlit->simpletransformers) (20.1.0)\n",
      "Requirement already satisfied: prometheus-client in /opt/conda/lib/python3.7/site-packages (from notebook>=4.4.1->widgetsnbextension~=3.5.0->ipywidgets>=7.0.0->pydeck>=0.1.dev5->streamlit->simpletransformers) (0.11.0)\n",
      "Requirement already satisfied: nbconvert in /opt/conda/lib/python3.7/site-packages (from notebook>=4.4.1->widgetsnbextension~=3.5.0->ipywidgets>=7.0.0->pydeck>=0.1.dev5->streamlit->simpletransformers) (6.0.7)\n",
      "Requirement already satisfied: pyzmq>=17 in /opt/conda/lib/python3.7/site-packages (from notebook>=4.4.1->widgetsnbextension~=3.5.0->ipywidgets>=7.0.0->pydeck>=0.1.dev5->streamlit->simpletransformers) (22.1.0)\n",
      "Requirement already satisfied: terminado>=0.8.3 in /opt/conda/lib/python3.7/site-packages (from notebook>=4.4.1->widgetsnbextension~=3.5.0->ipywidgets>=7.0.0->pydeck>=0.1.dev5->streamlit->simpletransformers) (0.10.1)\n",
      "Requirement already satisfied: cffi>=1.0.0 in /opt/conda/lib/python3.7/site-packages (from argon2-cffi->notebook>=4.4.1->widgetsnbextension~=3.5.0->ipywidgets>=7.0.0->pydeck>=0.1.dev5->streamlit->simpletransformers) (1.14.5)\n",
      "Requirement already satisfied: pycparser in /opt/conda/lib/python3.7/site-packages (from cffi>=1.0.0->argon2-cffi->notebook>=4.4.1->widgetsnbextension~=3.5.0->ipywidgets>=7.0.0->pydeck>=0.1.dev5->streamlit->simpletransformers) (2.20)\n",
      "Requirement already satisfied: defusedxml in /opt/conda/lib/python3.7/site-packages (from nbconvert->notebook>=4.4.1->widgetsnbextension~=3.5.0->ipywidgets>=7.0.0->pydeck>=0.1.dev5->streamlit->simpletransformers) (0.7.1)\n",
      "Requirement already satisfied: pandocfilters>=1.4.1 in /opt/conda/lib/python3.7/site-packages (from nbconvert->notebook>=4.4.1->widgetsnbextension~=3.5.0->ipywidgets>=7.0.0->pydeck>=0.1.dev5->streamlit->simpletransformers) (1.4.2)\n",
      "Requirement already satisfied: testpath in /opt/conda/lib/python3.7/site-packages (from nbconvert->notebook>=4.4.1->widgetsnbextension~=3.5.0->ipywidgets>=7.0.0->pydeck>=0.1.dev5->streamlit->simpletransformers) (0.5.0)\n",
      "Requirement already satisfied: bleach in /opt/conda/lib/python3.7/site-packages (from nbconvert->notebook>=4.4.1->widgetsnbextension~=3.5.0->ipywidgets>=7.0.0->pydeck>=0.1.dev5->streamlit->simpletransformers) (3.3.0)\n",
      "Requirement already satisfied: nbclient<0.6.0,>=0.5.0 in /opt/conda/lib/python3.7/site-packages (from nbconvert->notebook>=4.4.1->widgetsnbextension~=3.5.0->ipywidgets>=7.0.0->pydeck>=0.1.dev5->streamlit->simpletransformers) (0.5.3)\n",
      "Requirement already satisfied: mistune<2,>=0.8.1 in /opt/conda/lib/python3.7/site-packages (from nbconvert->notebook>=4.4.1->widgetsnbextension~=3.5.0->ipywidgets>=7.0.0->pydeck>=0.1.dev5->streamlit->simpletransformers) (0.8.4)\n",
      "Requirement already satisfied: jupyterlab-pygments in /opt/conda/lib/python3.7/site-packages (from nbconvert->notebook>=4.4.1->widgetsnbextension~=3.5.0->ipywidgets>=7.0.0->pydeck>=0.1.dev5->streamlit->simpletransformers) (0.1.2)\n",
      "Requirement already satisfied: async-generator in /opt/conda/lib/python3.7/site-packages (from nbclient<0.6.0,>=0.5.0->nbconvert->notebook>=4.4.1->widgetsnbextension~=3.5.0->ipywidgets>=7.0.0->pydeck>=0.1.dev5->streamlit->simpletransformers) (1.10)\n",
      "Requirement already satisfied: nest-asyncio in /opt/conda/lib/python3.7/site-packages (from nbclient<0.6.0,>=0.5.0->nbconvert->notebook>=4.4.1->widgetsnbextension~=3.5.0->ipywidgets>=7.0.0->pydeck>=0.1.dev5->streamlit->simpletransformers) (1.5.1)\n",
      "Requirement already satisfied: webencodings in /opt/conda/lib/python3.7/site-packages (from bleach->nbconvert->notebook>=4.4.1->widgetsnbextension~=3.5.0->ipywidgets>=7.0.0->pydeck>=0.1.dev5->streamlit->simpletransformers) (0.5.1)\n",
      "Building wheels for collected packages: seqeval\n",
      "  Building wheel for seqeval (setup.py) ... \u001b[?25ldone\n",
      "\u001b[?25h  Created wheel for seqeval: filename=seqeval-1.2.2-py3-none-any.whl size=16170 sha256=1d0e0515a16ebefd600fa7d48cbddd068cb37f235e237f1356ec62d18ff9eac2\n",
      "  Stored in directory: /root/.cache/pip/wheels/05/96/ee/7cac4e74f3b19e3158dce26a20a1c86b3533c43ec72a549fd7\n",
      "Successfully built seqeval\n",
      "Installing collected packages: xxhash, watchdog, validators, pydeck, base58, astor, streamlit, seqeval, datasets, simpletransformers\n",
      "Successfully installed astor-0.8.1 base58-2.1.0 datasets-1.11.0 pydeck-0.6.2 seqeval-1.2.2 simpletransformers-0.61.13 streamlit-0.86.0 validators-0.18.2 watchdog-2.1.3 xxhash-2.0.2\n",
      "\u001b[33mWARNING: Running pip as root will break packages and permissions. You should install packages reliably by using venv: https://pip.pypa.io/warnings/venv\u001b[0m\n"
     ]
    }
   ],
   "source": [
    "!pip install rouge-score\n",
    "!pip install simpletransformers\n",
    "import json\n",
    "from datetime import datetime\n",
    "from statistics import mean\n",
    "import pandas as pd\n",
    "from simpletransformers.t5 import T5Model"
   ]
  },
  {
   "cell_type": "code",
   "execution_count": 2,
   "metadata": {
    "execution": {
     "iopub.execute_input": "2021-08-15T21:55:28.971205Z",
     "iopub.status.busy": "2021-08-15T21:55:28.970834Z",
     "iopub.status.idle": "2021-08-15T21:55:29.977290Z",
     "shell.execute_reply": "2021-08-15T21:55:29.976326Z",
     "shell.execute_reply.started": "2021-08-15T21:55:28.971162Z"
    },
    "id": "nEtboPa7Adal",
    "papermill": {
     "duration": 1.818814,
     "end_time": "2021-05-28T00:38:58.408329",
     "exception": false,
     "start_time": "2021-05-28T00:38:56.589515",
     "status": "completed"
    },
    "tags": []
   },
   "outputs": [],
   "source": [
    "import numpy as np\n",
    "import pandas as pd\n",
    "import random\n",
    "import time\n",
    "import unicodedata\n",
    "import string\n",
    "import re\n",
    "import random\n",
    "import os\n",
    "import nltk\n",
    "from scipy.special import softmax\n",
    "\n",
    "\n",
    "import json\n",
    "import pandas as pd\n",
    "import numpy as np\n",
    "import tqdm\n",
    "from tqdm.notebook import tqdm\n",
    "tqdm.pandas()\n",
    "from rouge_score import rouge_scorer\n",
    "\n",
    "seed = 44  \n",
    "random.seed(seed)\n",
    "np.random.seed(seed)"
   ]
  },
  {
   "cell_type": "code",
   "execution_count": 3,
   "metadata": {
    "execution": {
     "iopub.execute_input": "2021-08-15T21:55:29.979468Z",
     "iopub.status.busy": "2021-08-15T21:55:29.979108Z",
     "iopub.status.idle": "2021-08-15T21:55:30.167577Z",
     "shell.execute_reply": "2021-08-15T21:55:30.165373Z",
     "shell.execute_reply.started": "2021-08-15T21:55:29.979436Z"
    },
    "id": "8QHPagfv28jT",
    "papermill": {
     "duration": 0.288543,
     "end_time": "2021-05-28T00:38:58.774282",
     "exception": false,
     "start_time": "2021-05-28T00:38:58.485739",
     "status": "completed"
    },
    "tags": []
   },
   "outputs": [],
   "source": [
    "# Load train and test data\n",
    "train = pd.read_csv(\"../input/yor-en/train_yoruba.csv\")\n",
    "test = pd.read_csv(\"../input/yor-en/test_yoruba.csv\")"
   ]
  },
  {
   "cell_type": "markdown",
   "metadata": {
    "id": "6OCQ_FE3_24i",
    "papermill": {
     "duration": 0.077866,
     "end_time": "2021-05-28T00:38:58.928736",
     "exception": false,
     "start_time": "2021-05-28T00:38:58.85087",
     "status": "completed"
    },
    "tags": []
   },
   "source": [
    "# EDA & PROCESSING"
   ]
  },
  {
   "cell_type": "code",
   "execution_count": 4,
   "metadata": {
    "execution": {
     "iopub.execute_input": "2021-08-15T21:55:30.176511Z",
     "iopub.status.busy": "2021-08-15T21:55:30.175862Z",
     "iopub.status.idle": "2021-08-15T21:55:30.232632Z",
     "shell.execute_reply": "2021-08-15T21:55:30.230071Z",
     "shell.execute_reply.started": "2021-08-15T21:55:30.176436Z"
    },
    "id": "S9ZYnyjz8m1H",
    "papermill": {
     "duration": 0.119758,
     "end_time": "2021-05-28T00:38:59.125774",
     "exception": false,
     "start_time": "2021-05-28T00:38:59.006016",
     "status": "completed"
    },
    "tags": []
   },
   "outputs": [],
   "source": [
    "#Check for duplicates\n",
    "\n",
    "train = train[~train[['Yoruba','English']].duplicated()]"
   ]
  },
  {
   "cell_type": "markdown",
   "metadata": {
    "id": "9UU0G32C_6b8",
    "papermill": {
     "duration": 0.076643,
     "end_time": "2021-05-28T00:38:59.279878",
     "exception": false,
     "start_time": "2021-05-28T00:38:59.203235",
     "status": "completed"
    },
    "tags": []
   },
   "source": [
    "Check if numeric is needed in test set"
   ]
  },
  {
   "cell_type": "code",
   "execution_count": 5,
   "metadata": {
    "execution": {
     "iopub.execute_input": "2021-08-15T21:55:30.239978Z",
     "iopub.status.busy": "2021-08-15T21:55:30.238910Z",
     "iopub.status.idle": "2021-08-15T21:55:30.335264Z",
     "shell.execute_reply": "2021-08-15T21:55:30.334213Z",
     "shell.execute_reply.started": "2021-08-15T21:55:30.239927Z"
    },
    "id": "JAaE9Uth-nkG",
    "papermill": {
     "duration": 0.141106,
     "end_time": "2021-05-28T00:38:59.498859",
     "exception": false,
     "start_time": "2021-05-28T00:38:59.357753",
     "status": "completed"
    },
    "tags": []
   },
   "outputs": [],
   "source": [
    "find_nos = [re.search('[0-9]+', i).group() for i in train['English'] if re.search('[0-9]+', i) != None]"
   ]
  },
  {
   "cell_type": "code",
   "execution_count": 6,
   "metadata": {
    "execution": {
     "iopub.execute_input": "2021-08-15T21:55:30.342002Z",
     "iopub.status.busy": "2021-08-15T21:55:30.339754Z",
     "iopub.status.idle": "2021-08-15T21:55:30.354941Z",
     "shell.execute_reply": "2021-08-15T21:55:30.353801Z",
     "shell.execute_reply.started": "2021-08-15T21:55:30.341958Z"
    },
    "id": "alWdNzHMAYf8",
    "outputId": "1373c653-26c0-40e7-fe5b-72aea8ea4db6",
    "papermill": {
     "duration": 0.091464,
     "end_time": "2021-05-28T00:38:59.667874",
     "exception": false,
     "start_time": "2021-05-28T00:38:59.57641",
     "status": "completed"
    },
    "tags": []
   },
   "outputs": [
    {
     "data": {
      "text/plain": [
       "['22', '2', '1550', '18', '351', '39', '900', '1', '1', '50']"
      ]
     },
     "execution_count": 6,
     "metadata": {},
     "output_type": "execute_result"
    }
   ],
   "source": [
    "find_nos[:10]"
   ]
  },
  {
   "cell_type": "code",
   "execution_count": 7,
   "metadata": {
    "execution": {
     "iopub.execute_input": "2021-08-15T21:55:30.361435Z",
     "iopub.status.busy": "2021-08-15T21:55:30.359354Z",
     "iopub.status.idle": "2021-08-15T21:55:30.388718Z",
     "shell.execute_reply": "2021-08-15T21:55:30.387860Z",
     "shell.execute_reply.started": "2021-08-15T21:55:30.361395Z"
    },
    "id": "Hp3zGUQSNEhG",
    "outputId": "452798eb-5fd5-4973-be69-5a681b4efb2b",
    "papermill": {
     "duration": 0.098,
     "end_time": "2021-05-28T00:38:59.844213",
     "exception": false,
     "start_time": "2021-05-28T00:38:59.746213",
     "status": "completed"
    },
    "tags": []
   },
   "outputs": [
    {
     "data": {
      "text/html": [
       "<div>\n",
       "<style scoped>\n",
       "    .dataframe tbody tr th:only-of-type {\n",
       "        vertical-align: middle;\n",
       "    }\n",
       "\n",
       "    .dataframe tbody tr th {\n",
       "        vertical-align: top;\n",
       "    }\n",
       "\n",
       "    .dataframe thead th {\n",
       "        text-align: right;\n",
       "    }\n",
       "</style>\n",
       "<table border=\"1\" class=\"dataframe\">\n",
       "  <thead>\n",
       "    <tr style=\"text-align: right;\">\n",
       "      <th></th>\n",
       "      <th>Unnamed: 0</th>\n",
       "      <th>ID</th>\n",
       "      <th>Yoruba</th>\n",
       "      <th>English</th>\n",
       "    </tr>\n",
       "  </thead>\n",
       "  <tbody>\n",
       "    <tr>\n",
       "      <th>0</th>\n",
       "      <td>0</td>\n",
       "      <td>ID_AAJEQLCz</td>\n",
       "      <td>A ṣètò Ìgbìmọ̀ Tó Ń Ṣètò Ìrànwọ́ Nígbà Àjálù l...</td>\n",
       "      <td>A Disaster Relief Committee was formed to orga...</td>\n",
       "    </tr>\n",
       "    <tr>\n",
       "      <th>1</th>\n",
       "      <td>1</td>\n",
       "      <td>ID_AASNedba</td>\n",
       "      <td>Ìrọ̀lẹ́ May 22, 2018 ni wọ́n fàṣẹ ọba mú Arákù...</td>\n",
       "      <td>Brother Solovyev was arrested on the evening o...</td>\n",
       "    </tr>\n",
       "    <tr>\n",
       "      <th>2</th>\n",
       "      <td>2</td>\n",
       "      <td>ID_AAeQrhMq</td>\n",
       "      <td>Iléeṣẹ́ Creative Commons náà</td>\n",
       "      <td>Creative Commons the Organization</td>\n",
       "    </tr>\n",
       "    <tr>\n",
       "      <th>3</th>\n",
       "      <td>3</td>\n",
       "      <td>ID_AAxlMgPP</td>\n",
       "      <td>Pè̩lú Egypt, Morocco àti Tunisia tí wó̩n ti lo...</td>\n",
       "      <td>With Egypt, Morocco and Tunisia out of the Wor...</td>\n",
       "    </tr>\n",
       "    <tr>\n",
       "      <th>4</th>\n",
       "      <td>4</td>\n",
       "      <td>ID_ABKuMKSx</td>\n",
       "      <td>Adájọ́ àgbà lórílẹ̀ èdè Náíjíríà (Attorney Gen...</td>\n",
       "      <td>The Attorney General of the Federation, Justic...</td>\n",
       "    </tr>\n",
       "  </tbody>\n",
       "</table>\n",
       "</div>"
      ],
      "text/plain": [
       "   Unnamed: 0           ID                                             Yoruba  \\\n",
       "0           0  ID_AAJEQLCz  A ṣètò Ìgbìmọ̀ Tó Ń Ṣètò Ìrànwọ́ Nígbà Àjálù l...   \n",
       "1           1  ID_AASNedba  Ìrọ̀lẹ́ May 22, 2018 ni wọ́n fàṣẹ ọba mú Arákù...   \n",
       "2           2  ID_AAeQrhMq                       Iléeṣẹ́ Creative Commons náà   \n",
       "3           3  ID_AAxlMgPP  Pè̩lú Egypt, Morocco àti Tunisia tí wó̩n ti lo...   \n",
       "4           4  ID_ABKuMKSx  Adájọ́ àgbà lórílẹ̀ èdè Náíjíríà (Attorney Gen...   \n",
       "\n",
       "                                             English  \n",
       "0  A Disaster Relief Committee was formed to orga...  \n",
       "1  Brother Solovyev was arrested on the evening o...  \n",
       "2                  Creative Commons the Organization  \n",
       "3  With Egypt, Morocco and Tunisia out of the Wor...  \n",
       "4  The Attorney General of the Federation, Justic...  "
      ]
     },
     "execution_count": 7,
     "metadata": {},
     "output_type": "execute_result"
    }
   ],
   "source": [
    "train.head()"
   ]
  },
  {
   "cell_type": "code",
   "execution_count": 8,
   "metadata": {
    "execution": {
     "iopub.execute_input": "2021-08-15T21:55:30.396768Z",
     "iopub.status.busy": "2021-08-15T21:55:30.394316Z",
     "iopub.status.idle": "2021-08-15T21:55:30.407196Z",
     "shell.execute_reply": "2021-08-15T21:55:30.406095Z",
     "shell.execute_reply.started": "2021-08-15T21:55:30.396718Z"
    },
    "id": "DL9xsqWf31cg",
    "outputId": "80964431-0afc-478d-8c14-ee3a88440231",
    "papermill": {
     "duration": 0.090675,
     "end_time": "2021-05-28T00:39:00.015427",
     "exception": false,
     "start_time": "2021-05-28T00:38:59.924752",
     "status": "completed"
    },
    "tags": []
   },
   "outputs": [
    {
     "name": "stdout",
     "output_type": "stream",
     "text": [
      "Training Set Shape : (9990, 4)\n",
      "Test Set Shape : (6816, 3)\n"
     ]
    }
   ],
   "source": [
    "print(\"Training Set Shape :\", train.shape)\n",
    "print(\"Test Set Shape :\", test.shape)"
   ]
  },
  {
   "cell_type": "code",
   "execution_count": 9,
   "metadata": {
    "execution": {
     "iopub.execute_input": "2021-08-15T21:55:30.414797Z",
     "iopub.status.busy": "2021-08-15T21:55:30.412546Z",
     "iopub.status.idle": "2021-08-15T21:55:30.494745Z",
     "shell.execute_reply": "2021-08-15T21:55:30.493742Z",
     "shell.execute_reply.started": "2021-08-15T21:55:30.414751Z"
    },
    "id": "jzayiM7VbP1u",
    "papermill": {
     "duration": 0.136682,
     "end_time": "2021-05-28T00:39:00.231572",
     "exception": false,
     "start_time": "2021-05-28T00:39:00.09489",
     "status": "completed"
    },
    "tags": []
   },
   "outputs": [],
   "source": [
    "train['Eng_len'] = [len(i.split())for i in train['English']]\n",
    "\n",
    "train['Yor_len'] = [len(i.split())for i in train ['Yoruba']]"
   ]
  },
  {
   "cell_type": "code",
   "execution_count": 10,
   "metadata": {
    "execution": {
     "iopub.execute_input": "2021-08-15T21:55:30.501840Z",
     "iopub.status.busy": "2021-08-15T21:55:30.499476Z",
     "iopub.status.idle": "2021-08-15T21:55:30.539588Z",
     "shell.execute_reply": "2021-08-15T21:55:30.538457Z",
     "shell.execute_reply.started": "2021-08-15T21:55:30.501798Z"
    },
    "id": "ZsQounSZbPtw",
    "papermill": {
     "duration": 0.109824,
     "end_time": "2021-05-28T00:39:00.419731",
     "exception": false,
     "start_time": "2021-05-28T00:39:00.309907",
     "status": "completed"
    },
    "tags": []
   },
   "outputs": [],
   "source": [
    "test['Yor_len'] = [len(i.split())for i in test['Yoruba']]"
   ]
  },
  {
   "cell_type": "code",
   "execution_count": 11,
   "metadata": {
    "execution": {
     "iopub.execute_input": "2021-08-15T21:55:30.546726Z",
     "iopub.status.busy": "2021-08-15T21:55:30.544358Z",
     "iopub.status.idle": "2021-08-15T21:55:30.558169Z",
     "shell.execute_reply": "2021-08-15T21:55:30.557105Z",
     "shell.execute_reply.started": "2021-08-15T21:55:30.546678Z"
    },
    "id": "e8oYztZ8bhIf",
    "outputId": "1cb838e3-3d36-4555-b4ab-31479cc479a3",
    "papermill": {
     "duration": 0.098309,
     "end_time": "2021-05-28T00:39:00.597203",
     "exception": false,
     "start_time": "2021-05-28T00:39:00.498894",
     "status": "completed"
    },
    "tags": []
   },
   "outputs": [
    {
     "data": {
      "text/plain": [
       "(219, 159)"
      ]
     },
     "execution_count": 11,
     "metadata": {},
     "output_type": "execute_result"
    }
   ],
   "source": [
    "train['Yor_len'].max(), train['Eng_len'].max()"
   ]
  },
  {
   "cell_type": "code",
   "execution_count": 12,
   "metadata": {
    "execution": {
     "iopub.execute_input": "2021-08-15T21:55:30.564923Z",
     "iopub.status.busy": "2021-08-15T21:55:30.562699Z",
     "iopub.status.idle": "2021-08-15T21:55:30.575950Z",
     "shell.execute_reply": "2021-08-15T21:55:30.574773Z",
     "shell.execute_reply.started": "2021-08-15T21:55:30.564879Z"
    },
    "id": "49xYn8SrbhCN",
    "outputId": "1f64ed11-3a9a-4668-ec6f-f5aef66633d0",
    "papermill": {
     "duration": 0.090811,
     "end_time": "2021-05-28T00:39:00.767654",
     "exception": false,
     "start_time": "2021-05-28T00:39:00.676843",
     "status": "completed"
    },
    "tags": []
   },
   "outputs": [
    {
     "data": {
      "text/plain": [
       "129"
      ]
     },
     "execution_count": 12,
     "metadata": {},
     "output_type": "execute_result"
    }
   ],
   "source": [
    "test['Yor_len'].max()"
   ]
  },
  {
   "cell_type": "code",
   "execution_count": 13,
   "metadata": {
    "execution": {
     "iopub.execute_input": "2021-08-15T21:55:30.582433Z",
     "iopub.status.busy": "2021-08-15T21:55:30.580197Z",
     "iopub.status.idle": "2021-08-15T21:55:30.597061Z",
     "shell.execute_reply": "2021-08-15T21:55:30.596163Z",
     "shell.execute_reply.started": "2021-08-15T21:55:30.582391Z"
    }
   },
   "outputs": [
    {
     "data": {
      "text/plain": [
       "(84.01100000000042, 104.08800000000338)"
      ]
     },
     "execution_count": 13,
     "metadata": {},
     "output_type": "execute_result"
    }
   ],
   "source": [
    "np.quantile(train['Eng_len'], 0.999), np.quantile(train['Yor_len'], 0.999), "
   ]
  },
  {
   "cell_type": "code",
   "execution_count": 14,
   "metadata": {
    "execution": {
     "iopub.execute_input": "2021-08-15T21:55:30.603223Z",
     "iopub.status.busy": "2021-08-15T21:55:30.600973Z",
     "iopub.status.idle": "2021-08-15T21:55:30.614065Z",
     "shell.execute_reply": "2021-08-15T21:55:30.613068Z",
     "shell.execute_reply.started": "2021-08-15T21:55:30.603181Z"
    }
   },
   "outputs": [
    {
     "data": {
      "text/plain": [
       "(83.0,)"
      ]
     },
     "execution_count": 14,
     "metadata": {},
     "output_type": "execute_result"
    }
   ],
   "source": [
    "np.quantile(test['Yor_len'], 0.999), "
   ]
  },
  {
   "cell_type": "code",
   "execution_count": null,
   "metadata": {},
   "outputs": [],
   "source": []
  },
  {
   "cell_type": "markdown",
   "metadata": {},
   "source": [
    "## 128 Sentence length will do in this case. 99.99% are less than the number"
   ]
  },
  {
   "cell_type": "code",
   "execution_count": 15,
   "metadata": {
    "execution": {
     "iopub.execute_input": "2021-08-15T21:55:30.620405Z",
     "iopub.status.busy": "2021-08-15T21:55:30.618323Z",
     "iopub.status.idle": "2021-08-15T21:55:30.626681Z",
     "shell.execute_reply": "2021-08-15T21:55:30.625592Z",
     "shell.execute_reply.started": "2021-08-15T21:55:30.620365Z"
    },
    "id": "2l9NZsW8mmPQ",
    "papermill": {
     "duration": 0.089128,
     "end_time": "2021-05-28T00:39:00.936399",
     "exception": false,
     "start_time": "2021-05-28T00:39:00.847271",
     "status": "completed"
    },
    "tags": []
   },
   "outputs": [],
   "source": [
    "train.reset_index(drop = True, inplace = True)"
   ]
  },
  {
   "cell_type": "code",
   "execution_count": 16,
   "metadata": {
    "execution": {
     "iopub.execute_input": "2021-08-15T21:55:30.631652Z",
     "iopub.status.busy": "2021-08-15T21:55:30.630483Z",
     "iopub.status.idle": "2021-08-15T21:55:30.643374Z",
     "shell.execute_reply": "2021-08-15T21:55:30.642596Z",
     "shell.execute_reply.started": "2021-08-15T21:55:30.631615Z"
    },
    "id": "_2f5oYLPbg9Z",
    "papermill": {
     "duration": 0.090011,
     "end_time": "2021-05-28T00:39:01.108953",
     "exception": false,
     "start_time": "2021-05-28T00:39:01.018942",
     "status": "completed"
    },
    "tags": []
   },
   "outputs": [],
   "source": [
    "train_df = train[['Yoruba', 'English']]"
   ]
  },
  {
   "cell_type": "code",
   "execution_count": 17,
   "metadata": {
    "execution": {
     "iopub.execute_input": "2021-08-15T21:55:30.649615Z",
     "iopub.status.busy": "2021-08-15T21:55:30.647517Z",
     "iopub.status.idle": "2021-08-15T21:55:30.666227Z",
     "shell.execute_reply": "2021-08-15T21:55:30.665478Z",
     "shell.execute_reply.started": "2021-08-15T21:55:30.649559Z"
    },
    "id": "fKcHJ5Owmidn",
    "outputId": "63eead95-b71d-484e-f5d8-9eb7e112bfdf",
    "papermill": {
     "duration": 0.096234,
     "end_time": "2021-05-28T00:39:01.284164",
     "exception": false,
     "start_time": "2021-05-28T00:39:01.18793",
     "status": "completed"
    },
    "tags": []
   },
   "outputs": [
    {
     "data": {
      "text/html": [
       "<div>\n",
       "<style scoped>\n",
       "    .dataframe tbody tr th:only-of-type {\n",
       "        vertical-align: middle;\n",
       "    }\n",
       "\n",
       "    .dataframe tbody tr th {\n",
       "        vertical-align: top;\n",
       "    }\n",
       "\n",
       "    .dataframe thead th {\n",
       "        text-align: right;\n",
       "    }\n",
       "</style>\n",
       "<table border=\"1\" class=\"dataframe\">\n",
       "  <thead>\n",
       "    <tr style=\"text-align: right;\">\n",
       "      <th></th>\n",
       "      <th>Yoruba</th>\n",
       "      <th>English</th>\n",
       "    </tr>\n",
       "  </thead>\n",
       "  <tbody>\n",
       "    <tr>\n",
       "      <th>0</th>\n",
       "      <td>A ṣètò Ìgbìmọ̀ Tó Ń Ṣètò Ìrànwọ́ Nígbà Àjálù l...</td>\n",
       "      <td>A Disaster Relief Committee was formed to orga...</td>\n",
       "    </tr>\n",
       "    <tr>\n",
       "      <th>1</th>\n",
       "      <td>Ìrọ̀lẹ́ May 22, 2018 ni wọ́n fàṣẹ ọba mú Arákù...</td>\n",
       "      <td>Brother Solovyev was arrested on the evening o...</td>\n",
       "    </tr>\n",
       "    <tr>\n",
       "      <th>2</th>\n",
       "      <td>Iléeṣẹ́ Creative Commons náà</td>\n",
       "      <td>Creative Commons the Organization</td>\n",
       "    </tr>\n",
       "    <tr>\n",
       "      <th>3</th>\n",
       "      <td>Pè̩lú Egypt, Morocco àti Tunisia tí wó̩n ti lo...</td>\n",
       "      <td>With Egypt, Morocco and Tunisia out of the Wor...</td>\n",
       "    </tr>\n",
       "    <tr>\n",
       "      <th>4</th>\n",
       "      <td>Adájọ́ àgbà lórílẹ̀ èdè Náíjíríà (Attorney Gen...</td>\n",
       "      <td>The Attorney General of the Federation, Justic...</td>\n",
       "    </tr>\n",
       "  </tbody>\n",
       "</table>\n",
       "</div>"
      ],
      "text/plain": [
       "                                              Yoruba  \\\n",
       "0  A ṣètò Ìgbìmọ̀ Tó Ń Ṣètò Ìrànwọ́ Nígbà Àjálù l...   \n",
       "1  Ìrọ̀lẹ́ May 22, 2018 ni wọ́n fàṣẹ ọba mú Arákù...   \n",
       "2                       Iléeṣẹ́ Creative Commons náà   \n",
       "3  Pè̩lú Egypt, Morocco àti Tunisia tí wó̩n ti lo...   \n",
       "4  Adájọ́ àgbà lórílẹ̀ èdè Náíjíríà (Attorney Gen...   \n",
       "\n",
       "                                             English  \n",
       "0  A Disaster Relief Committee was formed to orga...  \n",
       "1  Brother Solovyev was arrested on the evening o...  \n",
       "2                  Creative Commons the Organization  \n",
       "3  With Egypt, Morocco and Tunisia out of the Wor...  \n",
       "4  The Attorney General of the Federation, Justic...  "
      ]
     },
     "execution_count": 17,
     "metadata": {},
     "output_type": "execute_result"
    }
   ],
   "source": [
    "train_df.head()"
   ]
  },
  {
   "cell_type": "markdown",
   "metadata": {
    "id": "tMAct5Hy3aav",
    "papermill": {
     "duration": 0.080619,
     "end_time": "2021-05-28T00:39:01.445208",
     "exception": false,
     "start_time": "2021-05-28T00:39:01.364589",
     "status": "completed"
    },
    "tags": []
   },
   "source": [
    "## Loading & Splitting The Competition Data\n",
    "\n"
   ]
  },
  {
   "cell_type": "code",
   "execution_count": 18,
   "metadata": {
    "execution": {
     "iopub.execute_input": "2021-08-15T21:55:30.672123Z",
     "iopub.status.busy": "2021-08-15T21:55:30.669890Z",
     "iopub.status.idle": "2021-08-15T21:55:30.677903Z",
     "shell.execute_reply": "2021-08-15T21:55:30.677127Z",
     "shell.execute_reply.started": "2021-08-15T21:55:30.672085Z"
    },
    "id": "KDL8mGlY2Qnd",
    "papermill": {
     "duration": 0.090547,
     "end_time": "2021-05-28T00:39:01.61708",
     "exception": false,
     "start_time": "2021-05-28T00:39:01.526533",
     "status": "completed"
    },
    "tags": []
   },
   "outputs": [],
   "source": [
    "from sklearn.model_selection import train_test_split, StratifiedKFold, KFold"
   ]
  },
  {
   "cell_type": "code",
   "execution_count": 19,
   "metadata": {
    "execution": {
     "iopub.execute_input": "2021-08-15T21:55:30.683730Z",
     "iopub.status.busy": "2021-08-15T21:55:30.681704Z",
     "iopub.status.idle": "2021-08-15T21:55:30.696027Z",
     "shell.execute_reply": "2021-08-15T21:55:30.695127Z",
     "shell.execute_reply.started": "2021-08-15T21:55:30.683690Z"
    },
    "id": "Dnx_KQR2cQ7_",
    "papermill": {
     "duration": 0.089101,
     "end_time": "2021-05-28T00:39:01.786044",
     "exception": false,
     "start_time": "2021-05-28T00:39:01.696943",
     "status": "completed"
    },
    "tags": []
   },
   "outputs": [],
   "source": [
    "train_df = train_df.rename(columns = {'Yoruba' : 'input_text', 'English' : 'target_text'})"
   ]
  },
  {
   "cell_type": "code",
   "execution_count": 20,
   "metadata": {
    "execution": {
     "iopub.execute_input": "2021-08-15T21:55:30.700173Z",
     "iopub.status.busy": "2021-08-15T21:55:30.699538Z",
     "iopub.status.idle": "2021-08-15T21:55:30.712651Z",
     "shell.execute_reply": "2021-08-15T21:55:30.711445Z",
     "shell.execute_reply.started": "2021-08-15T21:55:30.700102Z"
    },
    "id": "TGHQs-J22_dB",
    "papermill": {
     "duration": 0.101814,
     "end_time": "2021-05-28T00:39:01.968191",
     "exception": false,
     "start_time": "2021-05-28T00:39:01.866377",
     "status": "completed"
    },
    "tags": []
   },
   "outputs": [],
   "source": [
    "# #splitting the training set in to training and validation sets\n",
    "from sklearn.model_selection import train_test_split  \n",
    "train_df, val =  train_test_split(train_df, test_size = 0.10  , random_state = 1)"
   ]
  },
  {
   "cell_type": "code",
   "execution_count": 21,
   "metadata": {
    "execution": {
     "iopub.execute_input": "2021-08-15T21:55:30.714541Z",
     "iopub.status.busy": "2021-08-15T21:55:30.714179Z",
     "iopub.status.idle": "2021-08-15T21:55:30.721291Z",
     "shell.execute_reply": "2021-08-15T21:55:30.719995Z",
     "shell.execute_reply.started": "2021-08-15T21:55:30.714509Z"
    },
    "id": "bs1hU0DuSpuj",
    "outputId": "6c2d1072-fe0a-486e-f928-43a892505f32",
    "papermill": {
     "duration": 0.157007,
     "end_time": "2021-05-28T00:39:02.27932",
     "exception": false,
     "start_time": "2021-05-28T00:39:02.122313",
     "status": "completed"
    },
    "tags": []
   },
   "outputs": [
    {
     "data": {
      "text/plain": [
       "999"
      ]
     },
     "execution_count": 21,
     "metadata": {},
     "output_type": "execute_result"
    }
   ],
   "source": [
    "len(val)"
   ]
  },
  {
   "cell_type": "code",
   "execution_count": 22,
   "metadata": {
    "execution": {
     "iopub.execute_input": "2021-08-15T21:55:30.723951Z",
     "iopub.status.busy": "2021-08-15T21:55:30.723384Z",
     "iopub.status.idle": "2021-08-15T21:55:30.731690Z",
     "shell.execute_reply": "2021-08-15T21:55:30.730430Z",
     "shell.execute_reply.started": "2021-08-15T21:55:30.723888Z"
    },
    "id": "-lmHAjZyyAym",
    "outputId": "1a958a18-fff6-48f0-baec-c7209811aec6",
    "papermill": {
     "duration": 0.15698,
     "end_time": "2021-05-28T00:39:02.574662",
     "exception": false,
     "start_time": "2021-05-28T00:39:02.417682",
     "status": "completed"
    },
    "tags": []
   },
   "outputs": [
    {
     "data": {
      "text/plain": [
       "8991"
      ]
     },
     "execution_count": 22,
     "metadata": {},
     "output_type": "execute_result"
    }
   ],
   "source": [
    "len(train_df)"
   ]
  },
  {
   "cell_type": "markdown",
   "metadata": {
    "id": "r7QUpS654Gex",
    "papermill": {
     "duration": 0.080404,
     "end_time": "2021-05-28T00:39:02.764166",
     "exception": false,
     "start_time": "2021-05-28T00:39:02.683762",
     "status": "completed"
    },
    "tags": []
   },
   "source": [
    "**Helper Functions for Competition Metric to check on Eval Set**"
   ]
  },
  {
   "cell_type": "code",
   "execution_count": 23,
   "metadata": {
    "execution": {
     "iopub.execute_input": "2021-08-15T21:55:30.737427Z",
     "iopub.status.busy": "2021-08-15T21:55:30.737031Z",
     "iopub.status.idle": "2021-08-15T21:55:30.743093Z",
     "shell.execute_reply": "2021-08-15T21:55:30.741961Z",
     "shell.execute_reply.started": "2021-08-15T21:55:30.737386Z"
    },
    "id": "Vpw75RIcvCY9",
    "papermill": {
     "duration": 0.158012,
     "end_time": "2021-05-28T00:39:03.003396",
     "exception": false,
     "start_time": "2021-05-28T00:39:02.845384",
     "status": "completed"
    },
    "tags": []
   },
   "outputs": [],
   "source": [
    "def create_metric(df, spec):\n",
    "\n",
    "  scorer = rouge_scorer.RougeScorer(['rouge1'], use_stemmer=False)\n",
    "\n",
    "  scores = scorer.score(df['target_text'], df[spec])\n",
    "\n",
    "  return float(scores['rouge1'][2])"
   ]
  },
  {
   "cell_type": "code",
   "execution_count": 24,
   "metadata": {
    "execution": {
     "iopub.execute_input": "2021-08-15T21:55:30.746746Z",
     "iopub.status.busy": "2021-08-15T21:55:30.746216Z",
     "iopub.status.idle": "2021-08-15T21:55:30.753393Z",
     "shell.execute_reply": "2021-08-15T21:55:30.752218Z",
     "shell.execute_reply.started": "2021-08-15T21:55:30.746702Z"
    },
    "id": "1s8PICtS49mq",
    "papermill": {
     "duration": 0.154234,
     "end_time": "2021-05-28T00:39:03.30003",
     "exception": false,
     "start_time": "2021-05-28T00:39:03.145796",
     "status": "completed"
    },
    "tags": []
   },
   "outputs": [],
   "source": [
    "def metric_score(spec, val):\n",
    "\n",
    "  val['scores'] = val.apply(create_metric, axis = 1, args = [spec])\n",
    "\n",
    "  return val['scores'].mean()"
   ]
  },
  {
   "cell_type": "code",
   "execution_count": null,
   "metadata": {},
   "outputs": [],
   "source": []
  },
  {
   "cell_type": "markdown",
   "metadata": {
    "id": "OmGZ4RYwCteL",
    "papermill": {
     "duration": 0.143076,
     "end_time": "2021-05-28T00:39:03.584487",
     "exception": false,
     "start_time": "2021-05-28T00:39:03.441411",
     "status": "completed"
    },
    "tags": []
   },
   "source": [
    "## Translation Model MT5 Pretrained"
   ]
  },
  {
   "cell_type": "markdown",
   "metadata": {
    "id": "cihhjxIE1jp0",
    "papermill": {
     "duration": 0.135489,
     "end_time": "2021-05-28T00:39:03.855579",
     "exception": false,
     "start_time": "2021-05-28T00:39:03.72009",
     "status": "completed"
    },
    "tags": []
   },
   "source": [
    "**Pre-process Data for MT5 training**"
   ]
  },
  {
   "cell_type": "code",
   "execution_count": 25,
   "metadata": {
    "execution": {
     "iopub.execute_input": "2021-08-15T21:55:30.755666Z",
     "iopub.status.busy": "2021-08-15T21:55:30.755229Z",
     "iopub.status.idle": "2021-08-15T21:55:30.763371Z",
     "shell.execute_reply": "2021-08-15T21:55:30.762299Z",
     "shell.execute_reply.started": "2021-08-15T21:55:30.755596Z"
    },
    "id": "k1YZX6sZwKHA",
    "papermill": {
     "duration": 0.150579,
     "end_time": "2021-05-28T00:39:04.143966",
     "exception": false,
     "start_time": "2021-05-28T00:39:03.993387",
     "status": "completed"
    },
    "tags": []
   },
   "outputs": [],
   "source": [
    "train_df[\"prefix\"] = \"\"\n",
    "val[\"prefix\"] = \"\""
   ]
  },
  {
   "cell_type": "code",
   "execution_count": 26,
   "metadata": {
    "execution": {
     "iopub.execute_input": "2021-08-15T21:55:30.765817Z",
     "iopub.status.busy": "2021-08-15T21:55:30.765330Z",
     "iopub.status.idle": "2021-08-15T21:55:30.775446Z",
     "shell.execute_reply": "2021-08-15T21:55:30.774405Z",
     "shell.execute_reply.started": "2021-08-15T21:55:30.765778Z"
    },
    "id": "4LknRYvPwY74",
    "papermill": {
     "duration": 0.11218,
     "end_time": "2021-05-28T00:39:04.390665",
     "exception": false,
     "start_time": "2021-05-28T00:39:04.278485",
     "status": "completed"
    },
    "tags": []
   },
   "outputs": [],
   "source": [
    "train_df = train_df[[\"prefix\", \"input_text\", \"target_text\"]]\n",
    "val = val[[\"prefix\", \"input_text\", \"target_text\"]]"
   ]
  },
  {
   "cell_type": "markdown",
   "metadata": {
    "id": "EjShtYgG1tqT",
    "papermill": {
     "duration": 0.086103,
     "end_time": "2021-05-28T00:39:04.564361",
     "exception": false,
     "start_time": "2021-05-28T00:39:04.478258",
     "status": "completed"
    },
    "tags": []
   },
   "source": [
    "**MT5 training params**"
   ]
  },
  {
   "cell_type": "code",
   "execution_count": 27,
   "metadata": {
    "execution": {
     "iopub.execute_input": "2021-08-15T21:55:30.777057Z",
     "iopub.status.busy": "2021-08-15T21:55:30.776630Z",
     "iopub.status.idle": "2021-08-15T21:55:30.781944Z",
     "shell.execute_reply": "2021-08-15T21:55:30.781093Z",
     "shell.execute_reply.started": "2021-08-15T21:55:30.777007Z"
    },
    "id": "gG5yr72kYUAV",
    "outputId": "f0448f23-cbe0-44b5-a858-2a03d3ccaa55",
    "papermill": {
     "duration": 0.095014,
     "end_time": "2021-05-28T00:39:04.746447",
     "exception": false,
     "start_time": "2021-05-28T00:39:04.651433",
     "status": "completed"
    },
    "tags": []
   },
   "outputs": [],
   "source": [
    "#Set Params\n",
    "\n",
    "batch_size= 8\n",
    "batch_steps = len(train_df)/batch_size\n",
    "warmup = batch_steps/3"
   ]
  },
  {
   "cell_type": "markdown",
   "metadata": {
    "id": "17xsuEOSyAyr",
    "papermill": {
     "duration": 0.085953,
     "end_time": "2021-05-28T00:39:05.10496",
     "exception": false,
     "start_time": "2021-05-28T00:39:05.019007",
     "status": "completed"
    },
    "tags": []
   },
   "source": [
    "**Training-Validation Routine:**"
   ]
  },
  {
   "cell_type": "code",
   "execution_count": 28,
   "metadata": {
    "execution": {
     "iopub.execute_input": "2021-08-15T21:55:30.784138Z",
     "iopub.status.busy": "2021-08-15T21:55:30.783572Z",
     "iopub.status.idle": "2021-08-15T21:57:05.876344Z",
     "shell.execute_reply": "2021-08-15T21:57:05.875362Z",
     "shell.execute_reply.started": "2021-08-15T21:55:30.784095Z"
    },
    "id": "vn2zleYgyDOw",
    "papermill": {
     "duration": 0.113745,
     "end_time": "2021-05-28T00:39:05.304987",
     "exception": false,
     "start_time": "2021-05-28T00:39:05.191242",
     "status": "completed"
    },
    "tags": []
   },
   "outputs": [
    {
     "data": {
      "application/vnd.jupyter.widget-view+json": {
       "model_id": "270ac8f3d1f942dcb43f82d704128322",
       "version_major": 2,
       "version_minor": 0
      },
      "text/plain": [
       "Downloading:   0%|          | 0.00/673 [00:00<?, ?B/s]"
      ]
     },
     "metadata": {},
     "output_type": "display_data"
    },
    {
     "data": {
      "application/vnd.jupyter.widget-view+json": {
       "model_id": "3a9cfcbffbeb476c83ccd844b29defa8",
       "version_major": 2,
       "version_minor": 0
      },
      "text/plain": [
       "Downloading:   0%|          | 0.00/2.33G [00:00<?, ?B/s]"
      ]
     },
     "metadata": {},
     "output_type": "display_data"
    },
    {
     "data": {
      "application/vnd.jupyter.widget-view+json": {
       "model_id": "cb827acf138049db9d467b3020277c7c",
       "version_major": 2,
       "version_minor": 0
      },
      "text/plain": [
       "Downloading:   0%|          | 0.00/4.31M [00:00<?, ?B/s]"
      ]
     },
     "metadata": {},
     "output_type": "display_data"
    },
    {
     "data": {
      "application/vnd.jupyter.widget-view+json": {
       "model_id": "6a665c63558e4fbfa16c58f334bb76a5",
       "version_major": 2,
       "version_minor": 0
      },
      "text/plain": [
       "Downloading:   0%|          | 0.00/65.0 [00:00<?, ?B/s]"
      ]
     },
     "metadata": {},
     "output_type": "display_data"
    },
    {
     "data": {
      "application/vnd.jupyter.widget-view+json": {
       "model_id": "e2dd82adde4b4eff8a05116c79f818b6",
       "version_major": 2,
       "version_minor": 0
      },
      "text/plain": [
       "Downloading:   0%|          | 0.00/351 [00:00<?, ?B/s]"
      ]
     },
     "metadata": {},
     "output_type": "display_data"
    }
   ],
   "source": [
    "args = ({\"adam_epsilon\": 1e-08, \\\n",
    "        \"cosine_schedule_num_cycles\": 0.5, \n",
    "        \"do_lower_case\": False, \\\n",
    "        \"dynamic_quantize\": False, \\\n",
    "        \"early_stopping_delta\": 0, \\\n",
    "        \"early_stopping_metric\": \"eval_loss\", \\\n",
    "        \"early_stopping_metric_minimize\": True, \\\n",
    "        \"early_stopping_patience\": 3, \\\n",
    "        \"encoding\": None, \\\n",
    "        \"adafactor_eps\": [1e-30, 0.001], \\\n",
    "        \"adafactor_clip_threshold\": 1.0, \\\n",
    "        \"adafactor_decay_rate\": -0.8, \\\n",
    "        \"adafactor_beta1\": None, \\\n",
    "        \"adafactor_scale_parameter\": False, \\\n",
    "        \"adafactor_relative_step\": False, \n",
    "        \"adafactor_warmup_init\": False, \\\n",
    "        \"evaluate_during_training\": True, \\\n",
    "        \"evaluate_during_training_silent\": False, \\\n",
    "        \"evaluate_during_training_steps\": batch_steps, \\\n",
    "        \"evaluate_during_training_verbose\": True, \\\n",
    "        \"fp16\": False, \\\n",
    "        \"gradient_accumulation_steps\": 1, \\\n",
    "        \"learning_rate\": 1e-5,\n",
    "        \"local_rank\": -1, \\\n",
    "        \"logging_steps\": 50, \\\n",
    "        \"manual_seed\": 42, \\\n",
    "        \"max_grad_norm\": 1.0, \\\n",
    "        \"max_seq_length\": 128, \\\n",
    "        \"num_train_epochs\": 14, \\\n",
    "        \"optimizer\": \"Adafactor\", \\\n",
    "        \"process_count\": 254, \\\n",
    "        \"polynomial_decay_schedule_lr_end\": 1e-09, \\\n",
    "        \"polynomial_decay_schedule_power\": 1.0, \\\n",
    "        \"quantized_model\": False, \\\n",
    "        \"reprocess_input_data\": True, \\\n",
    "        \"save_best_model\": True, \\\n",
    "        \"save_eval_checkpoints\": False, \\\n",
    "        \"save_optimizer_and_scheduler\": False, \\\n",
    "        \"save_steps\": -1, \\\n",
    "        \"scheduler\": \"constant_schedule_with_warmup\", \\\n",
    "        \"silent\": False, \\\n",
    "        \"skip_special_tokens\": True, \\\n",
    "        \"tokenizer_type\": None, \\\n",
    "        \"tokenizer_name\": None, \\\n",
    "        \"train_batch_size\": batch_size, \\\n",
    "        \"use_cached_eval_features\": False, \\\n",
    "        \"use_early_stopping\": True,\\\n",
    "        \"use_multiprocessing\": False, \\\n",
    "        \"use_multiprocessing_for_evaluation\": False, \\\n",
    "        \"warmup_ratio\": 0.06, \\\n",
    "        \"warmup_steps\": warmup, \\\n",
    "        \"dataset_class\": None, \\\n",
    "        \"do_sample\": False, \\\n",
    "        \"length_penalty\": 2.0, \\\n",
    "        \"max_length\": 200, \\\n",
    "        \"max_steps\": -1, \\\n",
    "        \"num_beams\": 1, \\\n",
    "        \"num_return_sequences\": 1, \\\n",
    "        \"preprocess_inputs\": True, \\\n",
    "        \"repetition_penalty\": 1.0, \\\n",
    "        \"special_tokens_list\": [], \\\n",
    "        \"top_k\": None, \\\n",
    "        \"top_p\": None, \\\n",
    "        \"use_multiprocessed_decoding\": False, \\\n",
    "        \"eval_batch_size\" : batch_size, \\\n",
    "        \"overwrite_output_dir\" : True,\n",
    "        \"train_custom_parameters_only\" : False, \\\n",
    "        \"save_model_every_epoch\": False,\n",
    "        \"custom_parameter_groups\" :[{\"params\": ['decoder.block.11.layer.2.DenseReluDense.wi_0.weight',\n",
    "                                                'decoder.block.11.layer.2.DenseReluDense.wi_1.weight',\n",
    "                                                'decoder.block.11.layer.2.DenseReluDense.wo.weight',\n",
    "                                                'decoder.block.11.layer.2.layer_norm.weight',\n",
    "                                                'decoder.final_layer_norm.weight',\n",
    "                                                'lm_head.weight']}]\n",
    "})\n",
    "\n",
    "\n",
    "#Load the trained model\n",
    "\n",
    "full_model = T5Model(\"mt5\", \"Davlan/mt5_base_yor_eng_mt\", args= args, use_cuda = True)"
   ]
  },
  {
   "cell_type": "code",
   "execution_count": 29,
   "metadata": {
    "execution": {
     "iopub.execute_input": "2021-08-15T21:57:05.878264Z",
     "iopub.status.busy": "2021-08-15T21:57:05.877793Z",
     "iopub.status.idle": "2021-08-15T21:57:05.893610Z",
     "shell.execute_reply": "2021-08-15T21:57:05.892418Z",
     "shell.execute_reply.started": "2021-08-15T21:57:05.878215Z"
    },
    "id": "6b8XGMAX5IAr",
    "outputId": "d35fdabf-3498-44d1-f1c3-9622f18f3513",
    "papermill": {
     "duration": 0.103054,
     "end_time": "2021-05-28T00:39:05.4901",
     "exception": false,
     "start_time": "2021-05-28T00:39:05.387046",
     "status": "completed"
    },
    "tags": []
   },
   "outputs": [
    {
     "data": {
      "text/plain": [
       "['shared.weight',\n",
       " 'encoder.block.0.layer.0.SelfAttention.q.weight',\n",
       " 'encoder.block.0.layer.0.SelfAttention.k.weight',\n",
       " 'encoder.block.0.layer.0.SelfAttention.v.weight',\n",
       " 'encoder.block.0.layer.0.SelfAttention.o.weight',\n",
       " 'encoder.block.0.layer.0.SelfAttention.relative_attention_bias.weight',\n",
       " 'encoder.block.0.layer.0.layer_norm.weight',\n",
       " 'encoder.block.0.layer.1.DenseReluDense.wi_0.weight',\n",
       " 'encoder.block.0.layer.1.DenseReluDense.wi_1.weight',\n",
       " 'encoder.block.0.layer.1.DenseReluDense.wo.weight',\n",
       " 'encoder.block.0.layer.1.layer_norm.weight',\n",
       " 'encoder.block.1.layer.0.SelfAttention.q.weight',\n",
       " 'encoder.block.1.layer.0.SelfAttention.k.weight',\n",
       " 'encoder.block.1.layer.0.SelfAttention.v.weight',\n",
       " 'encoder.block.1.layer.0.SelfAttention.o.weight',\n",
       " 'encoder.block.1.layer.0.layer_norm.weight',\n",
       " 'encoder.block.1.layer.1.DenseReluDense.wi_0.weight',\n",
       " 'encoder.block.1.layer.1.DenseReluDense.wi_1.weight',\n",
       " 'encoder.block.1.layer.1.DenseReluDense.wo.weight',\n",
       " 'encoder.block.1.layer.1.layer_norm.weight',\n",
       " 'encoder.block.2.layer.0.SelfAttention.q.weight',\n",
       " 'encoder.block.2.layer.0.SelfAttention.k.weight',\n",
       " 'encoder.block.2.layer.0.SelfAttention.v.weight',\n",
       " 'encoder.block.2.layer.0.SelfAttention.o.weight',\n",
       " 'encoder.block.2.layer.0.layer_norm.weight',\n",
       " 'encoder.block.2.layer.1.DenseReluDense.wi_0.weight',\n",
       " 'encoder.block.2.layer.1.DenseReluDense.wi_1.weight',\n",
       " 'encoder.block.2.layer.1.DenseReluDense.wo.weight',\n",
       " 'encoder.block.2.layer.1.layer_norm.weight',\n",
       " 'encoder.block.3.layer.0.SelfAttention.q.weight',\n",
       " 'encoder.block.3.layer.0.SelfAttention.k.weight',\n",
       " 'encoder.block.3.layer.0.SelfAttention.v.weight',\n",
       " 'encoder.block.3.layer.0.SelfAttention.o.weight',\n",
       " 'encoder.block.3.layer.0.layer_norm.weight',\n",
       " 'encoder.block.3.layer.1.DenseReluDense.wi_0.weight',\n",
       " 'encoder.block.3.layer.1.DenseReluDense.wi_1.weight',\n",
       " 'encoder.block.3.layer.1.DenseReluDense.wo.weight',\n",
       " 'encoder.block.3.layer.1.layer_norm.weight',\n",
       " 'encoder.block.4.layer.0.SelfAttention.q.weight',\n",
       " 'encoder.block.4.layer.0.SelfAttention.k.weight',\n",
       " 'encoder.block.4.layer.0.SelfAttention.v.weight',\n",
       " 'encoder.block.4.layer.0.SelfAttention.o.weight',\n",
       " 'encoder.block.4.layer.0.layer_norm.weight',\n",
       " 'encoder.block.4.layer.1.DenseReluDense.wi_0.weight',\n",
       " 'encoder.block.4.layer.1.DenseReluDense.wi_1.weight',\n",
       " 'encoder.block.4.layer.1.DenseReluDense.wo.weight',\n",
       " 'encoder.block.4.layer.1.layer_norm.weight',\n",
       " 'encoder.block.5.layer.0.SelfAttention.q.weight',\n",
       " 'encoder.block.5.layer.0.SelfAttention.k.weight',\n",
       " 'encoder.block.5.layer.0.SelfAttention.v.weight',\n",
       " 'encoder.block.5.layer.0.SelfAttention.o.weight',\n",
       " 'encoder.block.5.layer.0.layer_norm.weight',\n",
       " 'encoder.block.5.layer.1.DenseReluDense.wi_0.weight',\n",
       " 'encoder.block.5.layer.1.DenseReluDense.wi_1.weight',\n",
       " 'encoder.block.5.layer.1.DenseReluDense.wo.weight',\n",
       " 'encoder.block.5.layer.1.layer_norm.weight',\n",
       " 'encoder.block.6.layer.0.SelfAttention.q.weight',\n",
       " 'encoder.block.6.layer.0.SelfAttention.k.weight',\n",
       " 'encoder.block.6.layer.0.SelfAttention.v.weight',\n",
       " 'encoder.block.6.layer.0.SelfAttention.o.weight',\n",
       " 'encoder.block.6.layer.0.layer_norm.weight',\n",
       " 'encoder.block.6.layer.1.DenseReluDense.wi_0.weight',\n",
       " 'encoder.block.6.layer.1.DenseReluDense.wi_1.weight',\n",
       " 'encoder.block.6.layer.1.DenseReluDense.wo.weight',\n",
       " 'encoder.block.6.layer.1.layer_norm.weight',\n",
       " 'encoder.block.7.layer.0.SelfAttention.q.weight',\n",
       " 'encoder.block.7.layer.0.SelfAttention.k.weight',\n",
       " 'encoder.block.7.layer.0.SelfAttention.v.weight',\n",
       " 'encoder.block.7.layer.0.SelfAttention.o.weight',\n",
       " 'encoder.block.7.layer.0.layer_norm.weight',\n",
       " 'encoder.block.7.layer.1.DenseReluDense.wi_0.weight',\n",
       " 'encoder.block.7.layer.1.DenseReluDense.wi_1.weight',\n",
       " 'encoder.block.7.layer.1.DenseReluDense.wo.weight',\n",
       " 'encoder.block.7.layer.1.layer_norm.weight',\n",
       " 'encoder.block.8.layer.0.SelfAttention.q.weight',\n",
       " 'encoder.block.8.layer.0.SelfAttention.k.weight',\n",
       " 'encoder.block.8.layer.0.SelfAttention.v.weight',\n",
       " 'encoder.block.8.layer.0.SelfAttention.o.weight',\n",
       " 'encoder.block.8.layer.0.layer_norm.weight',\n",
       " 'encoder.block.8.layer.1.DenseReluDense.wi_0.weight',\n",
       " 'encoder.block.8.layer.1.DenseReluDense.wi_1.weight',\n",
       " 'encoder.block.8.layer.1.DenseReluDense.wo.weight',\n",
       " 'encoder.block.8.layer.1.layer_norm.weight',\n",
       " 'encoder.block.9.layer.0.SelfAttention.q.weight',\n",
       " 'encoder.block.9.layer.0.SelfAttention.k.weight',\n",
       " 'encoder.block.9.layer.0.SelfAttention.v.weight',\n",
       " 'encoder.block.9.layer.0.SelfAttention.o.weight',\n",
       " 'encoder.block.9.layer.0.layer_norm.weight',\n",
       " 'encoder.block.9.layer.1.DenseReluDense.wi_0.weight',\n",
       " 'encoder.block.9.layer.1.DenseReluDense.wi_1.weight',\n",
       " 'encoder.block.9.layer.1.DenseReluDense.wo.weight',\n",
       " 'encoder.block.9.layer.1.layer_norm.weight',\n",
       " 'encoder.block.10.layer.0.SelfAttention.q.weight',\n",
       " 'encoder.block.10.layer.0.SelfAttention.k.weight',\n",
       " 'encoder.block.10.layer.0.SelfAttention.v.weight',\n",
       " 'encoder.block.10.layer.0.SelfAttention.o.weight',\n",
       " 'encoder.block.10.layer.0.layer_norm.weight',\n",
       " 'encoder.block.10.layer.1.DenseReluDense.wi_0.weight',\n",
       " 'encoder.block.10.layer.1.DenseReluDense.wi_1.weight',\n",
       " 'encoder.block.10.layer.1.DenseReluDense.wo.weight',\n",
       " 'encoder.block.10.layer.1.layer_norm.weight',\n",
       " 'encoder.block.11.layer.0.SelfAttention.q.weight',\n",
       " 'encoder.block.11.layer.0.SelfAttention.k.weight',\n",
       " 'encoder.block.11.layer.0.SelfAttention.v.weight',\n",
       " 'encoder.block.11.layer.0.SelfAttention.o.weight',\n",
       " 'encoder.block.11.layer.0.layer_norm.weight',\n",
       " 'encoder.block.11.layer.1.DenseReluDense.wi_0.weight',\n",
       " 'encoder.block.11.layer.1.DenseReluDense.wi_1.weight',\n",
       " 'encoder.block.11.layer.1.DenseReluDense.wo.weight',\n",
       " 'encoder.block.11.layer.1.layer_norm.weight',\n",
       " 'encoder.final_layer_norm.weight',\n",
       " 'decoder.block.0.layer.0.SelfAttention.q.weight',\n",
       " 'decoder.block.0.layer.0.SelfAttention.k.weight',\n",
       " 'decoder.block.0.layer.0.SelfAttention.v.weight',\n",
       " 'decoder.block.0.layer.0.SelfAttention.o.weight',\n",
       " 'decoder.block.0.layer.0.SelfAttention.relative_attention_bias.weight',\n",
       " 'decoder.block.0.layer.0.layer_norm.weight',\n",
       " 'decoder.block.0.layer.1.EncDecAttention.q.weight',\n",
       " 'decoder.block.0.layer.1.EncDecAttention.k.weight',\n",
       " 'decoder.block.0.layer.1.EncDecAttention.v.weight',\n",
       " 'decoder.block.0.layer.1.EncDecAttention.o.weight',\n",
       " 'decoder.block.0.layer.1.layer_norm.weight',\n",
       " 'decoder.block.0.layer.2.DenseReluDense.wi_0.weight',\n",
       " 'decoder.block.0.layer.2.DenseReluDense.wi_1.weight',\n",
       " 'decoder.block.0.layer.2.DenseReluDense.wo.weight',\n",
       " 'decoder.block.0.layer.2.layer_norm.weight',\n",
       " 'decoder.block.1.layer.0.SelfAttention.q.weight',\n",
       " 'decoder.block.1.layer.0.SelfAttention.k.weight',\n",
       " 'decoder.block.1.layer.0.SelfAttention.v.weight',\n",
       " 'decoder.block.1.layer.0.SelfAttention.o.weight',\n",
       " 'decoder.block.1.layer.0.layer_norm.weight',\n",
       " 'decoder.block.1.layer.1.EncDecAttention.q.weight',\n",
       " 'decoder.block.1.layer.1.EncDecAttention.k.weight',\n",
       " 'decoder.block.1.layer.1.EncDecAttention.v.weight',\n",
       " 'decoder.block.1.layer.1.EncDecAttention.o.weight',\n",
       " 'decoder.block.1.layer.1.layer_norm.weight',\n",
       " 'decoder.block.1.layer.2.DenseReluDense.wi_0.weight',\n",
       " 'decoder.block.1.layer.2.DenseReluDense.wi_1.weight',\n",
       " 'decoder.block.1.layer.2.DenseReluDense.wo.weight',\n",
       " 'decoder.block.1.layer.2.layer_norm.weight',\n",
       " 'decoder.block.2.layer.0.SelfAttention.q.weight',\n",
       " 'decoder.block.2.layer.0.SelfAttention.k.weight',\n",
       " 'decoder.block.2.layer.0.SelfAttention.v.weight',\n",
       " 'decoder.block.2.layer.0.SelfAttention.o.weight',\n",
       " 'decoder.block.2.layer.0.layer_norm.weight',\n",
       " 'decoder.block.2.layer.1.EncDecAttention.q.weight',\n",
       " 'decoder.block.2.layer.1.EncDecAttention.k.weight',\n",
       " 'decoder.block.2.layer.1.EncDecAttention.v.weight',\n",
       " 'decoder.block.2.layer.1.EncDecAttention.o.weight',\n",
       " 'decoder.block.2.layer.1.layer_norm.weight',\n",
       " 'decoder.block.2.layer.2.DenseReluDense.wi_0.weight',\n",
       " 'decoder.block.2.layer.2.DenseReluDense.wi_1.weight',\n",
       " 'decoder.block.2.layer.2.DenseReluDense.wo.weight',\n",
       " 'decoder.block.2.layer.2.layer_norm.weight',\n",
       " 'decoder.block.3.layer.0.SelfAttention.q.weight',\n",
       " 'decoder.block.3.layer.0.SelfAttention.k.weight',\n",
       " 'decoder.block.3.layer.0.SelfAttention.v.weight',\n",
       " 'decoder.block.3.layer.0.SelfAttention.o.weight',\n",
       " 'decoder.block.3.layer.0.layer_norm.weight',\n",
       " 'decoder.block.3.layer.1.EncDecAttention.q.weight',\n",
       " 'decoder.block.3.layer.1.EncDecAttention.k.weight',\n",
       " 'decoder.block.3.layer.1.EncDecAttention.v.weight',\n",
       " 'decoder.block.3.layer.1.EncDecAttention.o.weight',\n",
       " 'decoder.block.3.layer.1.layer_norm.weight',\n",
       " 'decoder.block.3.layer.2.DenseReluDense.wi_0.weight',\n",
       " 'decoder.block.3.layer.2.DenseReluDense.wi_1.weight',\n",
       " 'decoder.block.3.layer.2.DenseReluDense.wo.weight',\n",
       " 'decoder.block.3.layer.2.layer_norm.weight',\n",
       " 'decoder.block.4.layer.0.SelfAttention.q.weight',\n",
       " 'decoder.block.4.layer.0.SelfAttention.k.weight',\n",
       " 'decoder.block.4.layer.0.SelfAttention.v.weight',\n",
       " 'decoder.block.4.layer.0.SelfAttention.o.weight',\n",
       " 'decoder.block.4.layer.0.layer_norm.weight',\n",
       " 'decoder.block.4.layer.1.EncDecAttention.q.weight',\n",
       " 'decoder.block.4.layer.1.EncDecAttention.k.weight',\n",
       " 'decoder.block.4.layer.1.EncDecAttention.v.weight',\n",
       " 'decoder.block.4.layer.1.EncDecAttention.o.weight',\n",
       " 'decoder.block.4.layer.1.layer_norm.weight',\n",
       " 'decoder.block.4.layer.2.DenseReluDense.wi_0.weight',\n",
       " 'decoder.block.4.layer.2.DenseReluDense.wi_1.weight',\n",
       " 'decoder.block.4.layer.2.DenseReluDense.wo.weight',\n",
       " 'decoder.block.4.layer.2.layer_norm.weight',\n",
       " 'decoder.block.5.layer.0.SelfAttention.q.weight',\n",
       " 'decoder.block.5.layer.0.SelfAttention.k.weight',\n",
       " 'decoder.block.5.layer.0.SelfAttention.v.weight',\n",
       " 'decoder.block.5.layer.0.SelfAttention.o.weight',\n",
       " 'decoder.block.5.layer.0.layer_norm.weight',\n",
       " 'decoder.block.5.layer.1.EncDecAttention.q.weight',\n",
       " 'decoder.block.5.layer.1.EncDecAttention.k.weight',\n",
       " 'decoder.block.5.layer.1.EncDecAttention.v.weight',\n",
       " 'decoder.block.5.layer.1.EncDecAttention.o.weight',\n",
       " 'decoder.block.5.layer.1.layer_norm.weight',\n",
       " 'decoder.block.5.layer.2.DenseReluDense.wi_0.weight',\n",
       " 'decoder.block.5.layer.2.DenseReluDense.wi_1.weight',\n",
       " 'decoder.block.5.layer.2.DenseReluDense.wo.weight',\n",
       " 'decoder.block.5.layer.2.layer_norm.weight',\n",
       " 'decoder.block.6.layer.0.SelfAttention.q.weight',\n",
       " 'decoder.block.6.layer.0.SelfAttention.k.weight',\n",
       " 'decoder.block.6.layer.0.SelfAttention.v.weight',\n",
       " 'decoder.block.6.layer.0.SelfAttention.o.weight',\n",
       " 'decoder.block.6.layer.0.layer_norm.weight',\n",
       " 'decoder.block.6.layer.1.EncDecAttention.q.weight',\n",
       " 'decoder.block.6.layer.1.EncDecAttention.k.weight',\n",
       " 'decoder.block.6.layer.1.EncDecAttention.v.weight',\n",
       " 'decoder.block.6.layer.1.EncDecAttention.o.weight',\n",
       " 'decoder.block.6.layer.1.layer_norm.weight',\n",
       " 'decoder.block.6.layer.2.DenseReluDense.wi_0.weight',\n",
       " 'decoder.block.6.layer.2.DenseReluDense.wi_1.weight',\n",
       " 'decoder.block.6.layer.2.DenseReluDense.wo.weight',\n",
       " 'decoder.block.6.layer.2.layer_norm.weight',\n",
       " 'decoder.block.7.layer.0.SelfAttention.q.weight',\n",
       " 'decoder.block.7.layer.0.SelfAttention.k.weight',\n",
       " 'decoder.block.7.layer.0.SelfAttention.v.weight',\n",
       " 'decoder.block.7.layer.0.SelfAttention.o.weight',\n",
       " 'decoder.block.7.layer.0.layer_norm.weight',\n",
       " 'decoder.block.7.layer.1.EncDecAttention.q.weight',\n",
       " 'decoder.block.7.layer.1.EncDecAttention.k.weight',\n",
       " 'decoder.block.7.layer.1.EncDecAttention.v.weight',\n",
       " 'decoder.block.7.layer.1.EncDecAttention.o.weight',\n",
       " 'decoder.block.7.layer.1.layer_norm.weight',\n",
       " 'decoder.block.7.layer.2.DenseReluDense.wi_0.weight',\n",
       " 'decoder.block.7.layer.2.DenseReluDense.wi_1.weight',\n",
       " 'decoder.block.7.layer.2.DenseReluDense.wo.weight',\n",
       " 'decoder.block.7.layer.2.layer_norm.weight',\n",
       " 'decoder.block.8.layer.0.SelfAttention.q.weight',\n",
       " 'decoder.block.8.layer.0.SelfAttention.k.weight',\n",
       " 'decoder.block.8.layer.0.SelfAttention.v.weight',\n",
       " 'decoder.block.8.layer.0.SelfAttention.o.weight',\n",
       " 'decoder.block.8.layer.0.layer_norm.weight',\n",
       " 'decoder.block.8.layer.1.EncDecAttention.q.weight',\n",
       " 'decoder.block.8.layer.1.EncDecAttention.k.weight',\n",
       " 'decoder.block.8.layer.1.EncDecAttention.v.weight',\n",
       " 'decoder.block.8.layer.1.EncDecAttention.o.weight',\n",
       " 'decoder.block.8.layer.1.layer_norm.weight',\n",
       " 'decoder.block.8.layer.2.DenseReluDense.wi_0.weight',\n",
       " 'decoder.block.8.layer.2.DenseReluDense.wi_1.weight',\n",
       " 'decoder.block.8.layer.2.DenseReluDense.wo.weight',\n",
       " 'decoder.block.8.layer.2.layer_norm.weight',\n",
       " 'decoder.block.9.layer.0.SelfAttention.q.weight',\n",
       " 'decoder.block.9.layer.0.SelfAttention.k.weight',\n",
       " 'decoder.block.9.layer.0.SelfAttention.v.weight',\n",
       " 'decoder.block.9.layer.0.SelfAttention.o.weight',\n",
       " 'decoder.block.9.layer.0.layer_norm.weight',\n",
       " 'decoder.block.9.layer.1.EncDecAttention.q.weight',\n",
       " 'decoder.block.9.layer.1.EncDecAttention.k.weight',\n",
       " 'decoder.block.9.layer.1.EncDecAttention.v.weight',\n",
       " 'decoder.block.9.layer.1.EncDecAttention.o.weight',\n",
       " 'decoder.block.9.layer.1.layer_norm.weight',\n",
       " 'decoder.block.9.layer.2.DenseReluDense.wi_0.weight',\n",
       " 'decoder.block.9.layer.2.DenseReluDense.wi_1.weight',\n",
       " 'decoder.block.9.layer.2.DenseReluDense.wo.weight',\n",
       " 'decoder.block.9.layer.2.layer_norm.weight',\n",
       " 'decoder.block.10.layer.0.SelfAttention.q.weight',\n",
       " 'decoder.block.10.layer.0.SelfAttention.k.weight',\n",
       " 'decoder.block.10.layer.0.SelfAttention.v.weight',\n",
       " 'decoder.block.10.layer.0.SelfAttention.o.weight',\n",
       " 'decoder.block.10.layer.0.layer_norm.weight',\n",
       " 'decoder.block.10.layer.1.EncDecAttention.q.weight',\n",
       " 'decoder.block.10.layer.1.EncDecAttention.k.weight',\n",
       " 'decoder.block.10.layer.1.EncDecAttention.v.weight',\n",
       " 'decoder.block.10.layer.1.EncDecAttention.o.weight',\n",
       " 'decoder.block.10.layer.1.layer_norm.weight',\n",
       " 'decoder.block.10.layer.2.DenseReluDense.wi_0.weight',\n",
       " 'decoder.block.10.layer.2.DenseReluDense.wi_1.weight',\n",
       " 'decoder.block.10.layer.2.DenseReluDense.wo.weight',\n",
       " 'decoder.block.10.layer.2.layer_norm.weight',\n",
       " 'decoder.block.11.layer.0.SelfAttention.q.weight',\n",
       " 'decoder.block.11.layer.0.SelfAttention.k.weight',\n",
       " 'decoder.block.11.layer.0.SelfAttention.v.weight',\n",
       " 'decoder.block.11.layer.0.SelfAttention.o.weight',\n",
       " 'decoder.block.11.layer.0.layer_norm.weight',\n",
       " 'decoder.block.11.layer.1.EncDecAttention.q.weight',\n",
       " 'decoder.block.11.layer.1.EncDecAttention.k.weight',\n",
       " 'decoder.block.11.layer.1.EncDecAttention.v.weight',\n",
       " 'decoder.block.11.layer.1.EncDecAttention.o.weight',\n",
       " 'decoder.block.11.layer.1.layer_norm.weight',\n",
       " 'decoder.block.11.layer.2.DenseReluDense.wi_0.weight',\n",
       " 'decoder.block.11.layer.2.DenseReluDense.wi_1.weight',\n",
       " 'decoder.block.11.layer.2.DenseReluDense.wo.weight',\n",
       " 'decoder.block.11.layer.2.layer_norm.weight',\n",
       " 'decoder.final_layer_norm.weight',\n",
       " 'lm_head.weight']"
      ]
     },
     "execution_count": 29,
     "metadata": {},
     "output_type": "execute_result"
    }
   ],
   "source": [
    "#Trainable MT5 Params- Training all layers of MT5 for fine-tuning, experimentation is possible.\n",
    "full_model.get_named_parameters()"
   ]
  },
  {
   "cell_type": "markdown",
   "metadata": {
    "id": "7p0hJTs4yAyt",
    "papermill": {
     "duration": 0.083769,
     "end_time": "2021-05-28T00:39:05.660246",
     "exception": false,
     "start_time": "2021-05-28T00:39:05.576477",
     "status": "completed"
    },
    "tags": []
   },
   "source": [
    "## Training MT5 Model on Train set, validating on hold out set"
   ]
  },
  {
   "cell_type": "code",
   "execution_count": 30,
   "metadata": {
    "execution": {
     "iopub.execute_input": "2021-08-15T21:57:05.895886Z",
     "iopub.status.busy": "2021-08-15T21:57:05.895172Z",
     "iopub.status.idle": "2021-08-16T00:49:01.106297Z",
     "shell.execute_reply": "2021-08-16T00:49:01.092704Z",
     "shell.execute_reply.started": "2021-08-15T21:57:05.895841Z"
    },
    "id": "n9tZoCeDEtza",
    "outputId": "af0b6bc4-a876-42fc-b2d9-e26e4f8aec80",
    "papermill": {
     "duration": 0.103185,
     "end_time": "2021-05-28T00:39:05.846853",
     "exception": false,
     "start_time": "2021-05-28T00:39:05.743668",
     "status": "completed"
    },
    "tags": []
   },
   "outputs": [
    {
     "data": {
      "application/vnd.jupyter.widget-view+json": {
       "model_id": "24d1fdb814a54b9882fb5936bc4d3626",
       "version_major": 2,
       "version_minor": 0
      },
      "text/plain": [
       "  0%|          | 0/8991 [00:00<?, ?it/s]"
      ]
     },
     "metadata": {},
     "output_type": "display_data"
    },
    {
     "name": "stderr",
     "output_type": "stream",
     "text": [
      "/opt/conda/lib/python3.7/site-packages/transformers/tokenization_utils_base.py:3260: FutureWarning: `prepare_seq2seq_batch` is deprecated and will be removed in version 5 of 🤗 Transformers. Use the regular `__call__` method to prepare your inputs and the tokenizer under the `with_target_tokenizer` context manager to prepare your targets. See the documentation of your specific tokenizer for more details\n",
      "  FutureWarning,\n"
     ]
    },
    {
     "name": "stdout",
     "output_type": "stream",
     "text": [
      "Using Adafactor for T5\n"
     ]
    },
    {
     "data": {
      "application/vnd.jupyter.widget-view+json": {
       "model_id": "d32f3897472242d8938fbe3324443906",
       "version_major": 2,
       "version_minor": 0
      },
      "text/plain": [
       "Epoch:   0%|          | 0/14 [00:00<?, ?it/s]"
      ]
     },
     "metadata": {},
     "output_type": "display_data"
    },
    {
     "data": {
      "application/vnd.jupyter.widget-view+json": {
       "model_id": "fcf9688aa8ae4472b6775941139c9b21",
       "version_major": 2,
       "version_minor": 0
      },
      "text/plain": [
       "Running Epoch 0 of 14:   0%|          | 0/1124 [00:00<?, ?it/s]"
      ]
     },
     "metadata": {},
     "output_type": "display_data"
    },
    {
     "name": "stderr",
     "output_type": "stream",
     "text": [
      "/opt/conda/lib/python3.7/site-packages/transformers/optimization.py:562: UserWarning: This overload of add_ is deprecated:\n",
      "\tadd_(Number alpha, Tensor other)\n",
      "Consider using one of the following signatures instead:\n",
      "\tadd_(Tensor other, *, Number alpha) (Triggered internally at  /opt/conda/conda-bld/pytorch_1603729047590/work/torch/csrc/utils/python_arg_parser.cpp:882.)\n",
      "  exp_avg_sq_row.mul_(beta2t).add_(1.0 - beta2t, update.mean(dim=-1))\n"
     ]
    },
    {
     "data": {
      "application/vnd.jupyter.widget-view+json": {
       "model_id": "4fe9419216c340b781d91ac0f1e89f23",
       "version_major": 2,
       "version_minor": 0
      },
      "text/plain": [
       "  0%|          | 0/999 [00:00<?, ?it/s]"
      ]
     },
     "metadata": {},
     "output_type": "display_data"
    },
    {
     "data": {
      "application/vnd.jupyter.widget-view+json": {
       "model_id": "9b9cb682bc3345f78cc2d5f71f8d8777",
       "version_major": 2,
       "version_minor": 0
      },
      "text/plain": [
       "Running Evaluation:   0%|          | 0/125 [00:00<?, ?it/s]"
      ]
     },
     "metadata": {},
     "output_type": "display_data"
    },
    {
     "data": {
      "application/vnd.jupyter.widget-view+json": {
       "model_id": "4bbaa722139a4b8daf164144b41140e4",
       "version_major": 2,
       "version_minor": 0
      },
      "text/plain": [
       "Running Epoch 1 of 14:   0%|          | 0/1124 [00:00<?, ?it/s]"
      ]
     },
     "metadata": {},
     "output_type": "display_data"
    },
    {
     "data": {
      "application/vnd.jupyter.widget-view+json": {
       "model_id": "5395a6c4dead48129d757b2cae32026b",
       "version_major": 2,
       "version_minor": 0
      },
      "text/plain": [
       "  0%|          | 0/999 [00:00<?, ?it/s]"
      ]
     },
     "metadata": {},
     "output_type": "display_data"
    },
    {
     "data": {
      "application/vnd.jupyter.widget-view+json": {
       "model_id": "466bea4fb0e349f9ad6dad4bfb685674",
       "version_major": 2,
       "version_minor": 0
      },
      "text/plain": [
       "Running Evaluation:   0%|          | 0/125 [00:00<?, ?it/s]"
      ]
     },
     "metadata": {},
     "output_type": "display_data"
    },
    {
     "data": {
      "application/vnd.jupyter.widget-view+json": {
       "model_id": "884dba5ad6d34bab907116fced5cada3",
       "version_major": 2,
       "version_minor": 0
      },
      "text/plain": [
       "Running Epoch 2 of 14:   0%|          | 0/1124 [00:00<?, ?it/s]"
      ]
     },
     "metadata": {},
     "output_type": "display_data"
    },
    {
     "data": {
      "application/vnd.jupyter.widget-view+json": {
       "model_id": "de5b76cf29bf478d863159f3b1d6fd7f",
       "version_major": 2,
       "version_minor": 0
      },
      "text/plain": [
       "  0%|          | 0/999 [00:00<?, ?it/s]"
      ]
     },
     "metadata": {},
     "output_type": "display_data"
    },
    {
     "data": {
      "application/vnd.jupyter.widget-view+json": {
       "model_id": "f03604cd1bea4858b07ed437bbbddc0a",
       "version_major": 2,
       "version_minor": 0
      },
      "text/plain": [
       "Running Evaluation:   0%|          | 0/125 [00:00<?, ?it/s]"
      ]
     },
     "metadata": {},
     "output_type": "display_data"
    },
    {
     "data": {
      "application/vnd.jupyter.widget-view+json": {
       "model_id": "6da8f894a43642e8a0a57bdeecb0925e",
       "version_major": 2,
       "version_minor": 0
      },
      "text/plain": [
       "Running Epoch 3 of 14:   0%|          | 0/1124 [00:00<?, ?it/s]"
      ]
     },
     "metadata": {},
     "output_type": "display_data"
    },
    {
     "data": {
      "application/vnd.jupyter.widget-view+json": {
       "model_id": "e39abad08c834188a952dbe92c4546d9",
       "version_major": 2,
       "version_minor": 0
      },
      "text/plain": [
       "  0%|          | 0/999 [00:00<?, ?it/s]"
      ]
     },
     "metadata": {},
     "output_type": "display_data"
    },
    {
     "data": {
      "application/vnd.jupyter.widget-view+json": {
       "model_id": "0450012e882f40608500c7b0ddf2d76a",
       "version_major": 2,
       "version_minor": 0
      },
      "text/plain": [
       "Running Evaluation:   0%|          | 0/125 [00:00<?, ?it/s]"
      ]
     },
     "metadata": {},
     "output_type": "display_data"
    },
    {
     "data": {
      "application/vnd.jupyter.widget-view+json": {
       "model_id": "e43b585474e74badb6576ab31240243c",
       "version_major": 2,
       "version_minor": 0
      },
      "text/plain": [
       "Running Epoch 4 of 14:   0%|          | 0/1124 [00:00<?, ?it/s]"
      ]
     },
     "metadata": {},
     "output_type": "display_data"
    },
    {
     "data": {
      "application/vnd.jupyter.widget-view+json": {
       "model_id": "6ad98342d83f4ea6a94708a1047bbd09",
       "version_major": 2,
       "version_minor": 0
      },
      "text/plain": [
       "  0%|          | 0/999 [00:00<?, ?it/s]"
      ]
     },
     "metadata": {},
     "output_type": "display_data"
    },
    {
     "data": {
      "application/vnd.jupyter.widget-view+json": {
       "model_id": "682c435ade674312b25e620b65d94073",
       "version_major": 2,
       "version_minor": 0
      },
      "text/plain": [
       "Running Evaluation:   0%|          | 0/125 [00:00<?, ?it/s]"
      ]
     },
     "metadata": {},
     "output_type": "display_data"
    },
    {
     "data": {
      "application/vnd.jupyter.widget-view+json": {
       "model_id": "80c15bc739a345549818589720fa5275",
       "version_major": 2,
       "version_minor": 0
      },
      "text/plain": [
       "Running Epoch 5 of 14:   0%|          | 0/1124 [00:00<?, ?it/s]"
      ]
     },
     "metadata": {},
     "output_type": "display_data"
    },
    {
     "data": {
      "application/vnd.jupyter.widget-view+json": {
       "model_id": "65780c8daa9e4634963479fa28ca1871",
       "version_major": 2,
       "version_minor": 0
      },
      "text/plain": [
       "  0%|          | 0/999 [00:00<?, ?it/s]"
      ]
     },
     "metadata": {},
     "output_type": "display_data"
    },
    {
     "data": {
      "application/vnd.jupyter.widget-view+json": {
       "model_id": "4519e68073e449e0b2597391a80b3f8a",
       "version_major": 2,
       "version_minor": 0
      },
      "text/plain": [
       "Running Evaluation:   0%|          | 0/125 [00:00<?, ?it/s]"
      ]
     },
     "metadata": {},
     "output_type": "display_data"
    },
    {
     "data": {
      "application/vnd.jupyter.widget-view+json": {
       "model_id": "5d0bef54b7274c71a4c1b853b9c5fb84",
       "version_major": 2,
       "version_minor": 0
      },
      "text/plain": [
       "Running Epoch 6 of 14:   0%|          | 0/1124 [00:00<?, ?it/s]"
      ]
     },
     "metadata": {},
     "output_type": "display_data"
    },
    {
     "data": {
      "application/vnd.jupyter.widget-view+json": {
       "model_id": "ebc2429f60ab44ffaf22870e3d6cf8ff",
       "version_major": 2,
       "version_minor": 0
      },
      "text/plain": [
       "  0%|          | 0/999 [00:00<?, ?it/s]"
      ]
     },
     "metadata": {},
     "output_type": "display_data"
    },
    {
     "data": {
      "application/vnd.jupyter.widget-view+json": {
       "model_id": "16c9c7680d114ab5a0a999f7b1540ac7",
       "version_major": 2,
       "version_minor": 0
      },
      "text/plain": [
       "Running Evaluation:   0%|          | 0/125 [00:00<?, ?it/s]"
      ]
     },
     "metadata": {},
     "output_type": "display_data"
    },
    {
     "data": {
      "application/vnd.jupyter.widget-view+json": {
       "model_id": "bc1f7ff6028040c885ec53783df7b1ad",
       "version_major": 2,
       "version_minor": 0
      },
      "text/plain": [
       "Running Epoch 7 of 14:   0%|          | 0/1124 [00:00<?, ?it/s]"
      ]
     },
     "metadata": {},
     "output_type": "display_data"
    },
    {
     "data": {
      "application/vnd.jupyter.widget-view+json": {
       "model_id": "e88ec79760404c3b8a00f9d3e1ce20ba",
       "version_major": 2,
       "version_minor": 0
      },
      "text/plain": [
       "  0%|          | 0/999 [00:00<?, ?it/s]"
      ]
     },
     "metadata": {},
     "output_type": "display_data"
    },
    {
     "data": {
      "application/vnd.jupyter.widget-view+json": {
       "model_id": "998dfcd953ea4683932067bdfb77071a",
       "version_major": 2,
       "version_minor": 0
      },
      "text/plain": [
       "Running Evaluation:   0%|          | 0/125 [00:00<?, ?it/s]"
      ]
     },
     "metadata": {},
     "output_type": "display_data"
    },
    {
     "data": {
      "application/vnd.jupyter.widget-view+json": {
       "model_id": "5d978aaa4ce644e898d4e3f6636c7f8f",
       "version_major": 2,
       "version_minor": 0
      },
      "text/plain": [
       "  0%|          | 0/999 [00:00<?, ?it/s]"
      ]
     },
     "metadata": {},
     "output_type": "display_data"
    },
    {
     "data": {
      "application/vnd.jupyter.widget-view+json": {
       "model_id": "a0b184a123a54fa7b1cb17b512f8f775",
       "version_major": 2,
       "version_minor": 0
      },
      "text/plain": [
       "Running Evaluation:   0%|          | 0/125 [00:00<?, ?it/s]"
      ]
     },
     "metadata": {},
     "output_type": "display_data"
    },
    {
     "data": {
      "application/vnd.jupyter.widget-view+json": {
       "model_id": "1118563e5c6843749cf52813299ed1f0",
       "version_major": 2,
       "version_minor": 0
      },
      "text/plain": [
       "Running Epoch 8 of 14:   0%|          | 0/1124 [00:00<?, ?it/s]"
      ]
     },
     "metadata": {},
     "output_type": "display_data"
    },
    {
     "data": {
      "application/vnd.jupyter.widget-view+json": {
       "model_id": "97b4c865c4fd46b5851dabed2ab8f493",
       "version_major": 2,
       "version_minor": 0
      },
      "text/plain": [
       "  0%|          | 0/999 [00:00<?, ?it/s]"
      ]
     },
     "metadata": {},
     "output_type": "display_data"
    },
    {
     "data": {
      "application/vnd.jupyter.widget-view+json": {
       "model_id": "82a9e624bb7c44599494bbfe598a4534",
       "version_major": 2,
       "version_minor": 0
      },
      "text/plain": [
       "Running Evaluation:   0%|          | 0/125 [00:00<?, ?it/s]"
      ]
     },
     "metadata": {},
     "output_type": "display_data"
    },
    {
     "data": {
      "application/vnd.jupyter.widget-view+json": {
       "model_id": "fbae0867e48a4c00b724b00e29e8b7e7",
       "version_major": 2,
       "version_minor": 0
      },
      "text/plain": [
       "Running Epoch 9 of 14:   0%|          | 0/1124 [00:00<?, ?it/s]"
      ]
     },
     "metadata": {},
     "output_type": "display_data"
    },
    {
     "data": {
      "application/vnd.jupyter.widget-view+json": {
       "model_id": "e034eb1881134832a5a547d20f41f68a",
       "version_major": 2,
       "version_minor": 0
      },
      "text/plain": [
       "  0%|          | 0/999 [00:00<?, ?it/s]"
      ]
     },
     "metadata": {},
     "output_type": "display_data"
    },
    {
     "data": {
      "application/vnd.jupyter.widget-view+json": {
       "model_id": "e5e38eb0ccc948fbaab0f24bdf39396d",
       "version_major": 2,
       "version_minor": 0
      },
      "text/plain": [
       "Running Evaluation:   0%|          | 0/125 [00:00<?, ?it/s]"
      ]
     },
     "metadata": {},
     "output_type": "display_data"
    },
    {
     "data": {
      "application/vnd.jupyter.widget-view+json": {
       "model_id": "35c4af5279be483fa8f780e0fe298195",
       "version_major": 2,
       "version_minor": 0
      },
      "text/plain": [
       "Running Epoch 10 of 14:   0%|          | 0/1124 [00:00<?, ?it/s]"
      ]
     },
     "metadata": {},
     "output_type": "display_data"
    },
    {
     "data": {
      "application/vnd.jupyter.widget-view+json": {
       "model_id": "e74039e5bf39459fb68ddedbff721433",
       "version_major": 2,
       "version_minor": 0
      },
      "text/plain": [
       "  0%|          | 0/999 [00:00<?, ?it/s]"
      ]
     },
     "metadata": {},
     "output_type": "display_data"
    },
    {
     "data": {
      "application/vnd.jupyter.widget-view+json": {
       "model_id": "35e4b84b17f44e61b8dda10c706bd0da",
       "version_major": 2,
       "version_minor": 0
      },
      "text/plain": [
       "Running Evaluation:   0%|          | 0/125 [00:00<?, ?it/s]"
      ]
     },
     "metadata": {},
     "output_type": "display_data"
    },
    {
     "data": {
      "application/vnd.jupyter.widget-view+json": {
       "model_id": "8dc29444ac1f4945a76766fdf42bc602",
       "version_major": 2,
       "version_minor": 0
      },
      "text/plain": [
       "Running Epoch 11 of 14:   0%|          | 0/1124 [00:00<?, ?it/s]"
      ]
     },
     "metadata": {},
     "output_type": "display_data"
    },
    {
     "data": {
      "application/vnd.jupyter.widget-view+json": {
       "model_id": "a9cd4ca1f6b048ae857244da196db2b8",
       "version_major": 2,
       "version_minor": 0
      },
      "text/plain": [
       "  0%|          | 0/999 [00:00<?, ?it/s]"
      ]
     },
     "metadata": {},
     "output_type": "display_data"
    },
    {
     "data": {
      "application/vnd.jupyter.widget-view+json": {
       "model_id": "170db0fb98774a0b86b3b02a0e394b2a",
       "version_major": 2,
       "version_minor": 0
      },
      "text/plain": [
       "Running Evaluation:   0%|          | 0/125 [00:00<?, ?it/s]"
      ]
     },
     "metadata": {},
     "output_type": "display_data"
    },
    {
     "data": {
      "application/vnd.jupyter.widget-view+json": {
       "model_id": "b2ca8993d27542e98b713b4ad33bc923",
       "version_major": 2,
       "version_minor": 0
      },
      "text/plain": [
       "Running Epoch 12 of 14:   0%|          | 0/1124 [00:00<?, ?it/s]"
      ]
     },
     "metadata": {},
     "output_type": "display_data"
    },
    {
     "data": {
      "application/vnd.jupyter.widget-view+json": {
       "model_id": "6905f142ee184e059e842f40cb489fa6",
       "version_major": 2,
       "version_minor": 0
      },
      "text/plain": [
       "  0%|          | 0/999 [00:00<?, ?it/s]"
      ]
     },
     "metadata": {},
     "output_type": "display_data"
    },
    {
     "data": {
      "application/vnd.jupyter.widget-view+json": {
       "model_id": "1332f3cd5c534e2fb66bbbc92768bf0e",
       "version_major": 2,
       "version_minor": 0
      },
      "text/plain": [
       "Running Evaluation:   0%|          | 0/125 [00:00<?, ?it/s]"
      ]
     },
     "metadata": {},
     "output_type": "display_data"
    },
    {
     "data": {
      "application/vnd.jupyter.widget-view+json": {
       "model_id": "0a02d6b377b343ebb629c32f66a21e87",
       "version_major": 2,
       "version_minor": 0
      },
      "text/plain": [
       "Running Epoch 13 of 14:   0%|          | 0/1124 [00:00<?, ?it/s]"
      ]
     },
     "metadata": {},
     "output_type": "display_data"
    },
    {
     "data": {
      "application/vnd.jupyter.widget-view+json": {
       "model_id": "e6223e6861944b318e7925122e807e9c",
       "version_major": 2,
       "version_minor": 0
      },
      "text/plain": [
       "  0%|          | 0/999 [00:00<?, ?it/s]"
      ]
     },
     "metadata": {},
     "output_type": "display_data"
    },
    {
     "data": {
      "application/vnd.jupyter.widget-view+json": {
       "model_id": "672580f48156452fb789f5d3fc75d403",
       "version_major": 2,
       "version_minor": 0
      },
      "text/plain": [
       "Running Evaluation:   0%|          | 0/125 [00:00<?, ?it/s]"
      ]
     },
     "metadata": {},
     "output_type": "display_data"
    },
    {
     "data": {
      "text/plain": [
       "(15736,\n",
       " {'global_step': [1124,\n",
       "   2248,\n",
       "   3372,\n",
       "   4496,\n",
       "   5620,\n",
       "   6744,\n",
       "   7868,\n",
       "   8991,\n",
       "   8992,\n",
       "   10116,\n",
       "   11240,\n",
       "   12364,\n",
       "   13488,\n",
       "   14612,\n",
       "   15736],\n",
       "  'eval_loss': [2.0637564134597777,\n",
       "   2.005174973487854,\n",
       "   1.9674850168228148,\n",
       "   1.9460718603134155,\n",
       "   1.926972412109375,\n",
       "   1.913552845954895,\n",
       "   1.8997657928466798,\n",
       "   1.8912156143188477,\n",
       "   1.8911588563919068,\n",
       "   1.8828787565231324,\n",
       "   1.8798219289779663,\n",
       "   1.8726026191711427,\n",
       "   1.8721655731201172,\n",
       "   1.868517746925354,\n",
       "   1.8631209802627564],\n",
       "  'train_loss': [1.789546012878418,\n",
       "   1.9335169792175293,\n",
       "   2.0942952632904053,\n",
       "   2.4130265712738037,\n",
       "   2.215636968612671,\n",
       "   2.339406967163086,\n",
       "   2.153193712234497,\n",
       "   1.7890820503234863,\n",
       "   1.4261651039123535,\n",
       "   1.7732902765274048,\n",
       "   1.233276605606079,\n",
       "   2.1404659748077393,\n",
       "   1.5579873323440552,\n",
       "   1.4746031761169434,\n",
       "   2.403543710708618]})"
      ]
     },
     "execution_count": 30,
     "metadata": {},
     "output_type": "execute_result"
    }
   ],
   "source": [
    "#%%time\n",
    "full_model.train_model(train_df, eval_data = val)"
   ]
  },
  {
   "cell_type": "code",
   "execution_count": 31,
   "metadata": {
    "execution": {
     "iopub.execute_input": "2021-08-16T00:49:01.113495Z",
     "iopub.status.busy": "2021-08-16T00:49:01.111303Z",
     "iopub.status.idle": "2021-08-16T00:49:22.408355Z",
     "shell.execute_reply": "2021-08-16T00:49:22.407288Z",
     "shell.execute_reply.started": "2021-08-16T00:49:01.113439Z"
    },
    "papermill": {
     "duration": 0.104352,
     "end_time": "2021-05-28T00:39:06.22222",
     "exception": false,
     "start_time": "2021-05-28T00:39:06.117868",
     "status": "completed"
    },
    "tags": []
   },
   "outputs": [
    {
     "data": {
      "application/vnd.jupyter.widget-view+json": {
       "model_id": "96f0fea9ea45412f93247e645c1282fe",
       "version_major": 2,
       "version_minor": 0
      },
      "text/plain": [
       "  0%|          | 0/999 [00:00<?, ?it/s]"
      ]
     },
     "metadata": {},
     "output_type": "display_data"
    },
    {
     "data": {
      "application/vnd.jupyter.widget-view+json": {
       "model_id": "8f8d20f428664372b8e16991bf9e3cf7",
       "version_major": 2,
       "version_minor": 0
      },
      "text/plain": [
       "Running Evaluation:   0%|          | 0/125 [00:00<?, ?it/s]"
      ]
     },
     "metadata": {},
     "output_type": "display_data"
    },
    {
     "name": "stdout",
     "output_type": "stream",
     "text": [
      "{'eval_loss': 1.8631209802627564}\n"
     ]
    }
   ],
   "source": [
    "#Actual Validation Loss[Trained]\n",
    "\n",
    "print(full_model.eval_model(val))"
   ]
  },
  {
   "cell_type": "markdown",
   "metadata": {
    "id": "3LX8g8_c2MFb",
    "papermill": {
     "duration": 0.084624,
     "end_time": "2021-05-28T00:39:06.39102",
     "exception": false,
     "start_time": "2021-05-28T00:39:06.306396",
     "status": "completed"
    },
    "tags": []
   },
   "source": [
    "#### Check overall score of trained model on validation set"
   ]
  },
  {
   "cell_type": "code",
   "execution_count": 32,
   "metadata": {
    "execution": {
     "iopub.execute_input": "2021-08-16T00:49:22.410311Z",
     "iopub.status.busy": "2021-08-16T00:49:22.409930Z",
     "iopub.status.idle": "2021-08-16T00:49:22.426273Z",
     "shell.execute_reply": "2021-08-16T00:49:22.425337Z",
     "shell.execute_reply.started": "2021-08-16T00:49:22.410268Z"
    },
    "id": "P7mMsWEMv7vI",
    "papermill": {
     "duration": 0.100198,
     "end_time": "2021-05-28T00:39:06.575632",
     "exception": false,
     "start_time": "2021-05-28T00:39:06.475434",
     "status": "completed"
    },
    "tags": []
   },
   "outputs": [],
   "source": [
    "# Prepare the data for validation(Train)\n",
    "train_predict = [\n",
    "        prefix + \": \" + str(input_text)\n",
    "        for prefix, input_text in zip(train_df[\"prefix\"].tolist(), train_df[\"input_text\"].tolist())\n",
    "    ]"
   ]
  },
  {
   "cell_type": "code",
   "execution_count": 33,
   "metadata": {
    "execution": {
     "iopub.execute_input": "2021-08-16T00:49:22.428042Z",
     "iopub.status.busy": "2021-08-16T00:49:22.427627Z",
     "iopub.status.idle": "2021-08-16T00:49:37.329908Z",
     "shell.execute_reply": "2021-08-16T00:49:37.328459Z",
     "shell.execute_reply.started": "2021-08-16T00:49:22.428001Z"
    },
    "papermill": {
     "duration": 0.095526,
     "end_time": "2021-05-28T00:39:06.756561",
     "exception": false,
     "start_time": "2021-05-28T00:39:06.661035",
     "status": "completed"
    },
    "tags": []
   },
   "outputs": [],
   "source": [
    "# Prepare the data for validation(val)\n",
    "to_predict = [\n",
    "        prefix + \": \" + str(input_text)\n",
    "        for prefix, input_text in zip(val[\"prefix\"].tolist(), val[\"input_text\"].tolist())\n",
    "    ]"
   ]
  },
  {
   "cell_type": "markdown",
   "metadata": {
    "id": "w10Tgm3vyAyv",
    "papermill": {
     "duration": 0.084241,
     "end_time": "2021-05-28T00:39:06.923759",
     "exception": false,
     "start_time": "2021-05-28T00:39:06.839518",
     "status": "completed"
    },
    "tags": []
   },
   "source": [
    "**Trained Model**"
   ]
  },
  {
   "cell_type": "code",
   "execution_count": 34,
   "metadata": {
    "execution": {
     "iopub.execute_input": "2021-08-16T00:49:37.334595Z",
     "iopub.status.busy": "2021-08-16T00:49:37.334106Z",
     "iopub.status.idle": "2021-08-16T00:52:12.940412Z",
     "shell.execute_reply": "2021-08-16T00:52:12.939334Z",
     "shell.execute_reply.started": "2021-08-16T00:49:37.334525Z"
    },
    "id": "M_lDb0Liv7hX",
    "papermill": {
     "duration": 0.106659,
     "end_time": "2021-05-28T00:39:07.115861",
     "exception": false,
     "start_time": "2021-05-28T00:39:07.009202",
     "status": "completed"
    },
    "tags": []
   },
   "outputs": [
    {
     "data": {
      "application/vnd.jupyter.widget-view+json": {
       "model_id": "2f5f25cdd5db41c487c818b7a030a483",
       "version_major": 2,
       "version_minor": 0
      },
      "text/plain": [
       "Generating outputs:   0%|          | 0/125 [00:00<?, ?it/s]"
      ]
     },
     "metadata": {},
     "output_type": "display_data"
    }
   ],
   "source": [
    "val['Label_MT5_trained'] = full_model.predict(to_predict)"
   ]
  },
  {
   "cell_type": "markdown",
   "metadata": {
    "id": "cQuy_jqCyAyw",
    "papermill": {
     "duration": 0.084812,
     "end_time": "2021-05-28T00:39:07.837555",
     "exception": false,
     "start_time": "2021-05-28T00:39:07.752743",
     "status": "completed"
    },
    "tags": []
   },
   "source": [
    "**Score Metrics for Trained Model**"
   ]
  },
  {
   "cell_type": "code",
   "execution_count": 36,
   "metadata": {
    "execution": {
     "iopub.execute_input": "2021-08-16T00:52:24.367895Z",
     "iopub.status.busy": "2021-08-16T00:52:24.367535Z",
     "iopub.status.idle": "2021-08-16T00:52:24.556390Z",
     "shell.execute_reply": "2021-08-16T00:52:24.555265Z",
     "shell.execute_reply.started": "2021-08-16T00:52:24.367863Z"
    },
    "id": "L1yXl0BYxpWn",
    "papermill": {
     "duration": 0.176991,
     "end_time": "2021-05-28T00:39:08.099169",
     "exception": false,
     "start_time": "2021-05-28T00:39:07.922178",
     "status": "completed"
    },
    "tags": []
   },
   "outputs": [
    {
     "name": "stdout",
     "output_type": "stream",
     "text": [
      "Rouge 1 Score on Validation for New trained model is 0.46917067316673233\n"
     ]
    }
   ],
   "source": [
    "print(\"Rouge 1 Score on Validation for New trained model is {}\".format(metric_score(\"Label_MT5_trained\", val)))"
   ]
  },
  {
   "cell_type": "markdown",
   "metadata": {
    "id": "wsrAYGvFTVXf",
    "papermill": {
     "duration": 0.083887,
     "end_time": "2021-05-28T00:39:08.479986",
     "exception": false,
     "start_time": "2021-05-28T00:39:08.396099",
     "status": "completed"
    },
    "tags": []
   },
   "source": [
    "### TEST SET PREDICTION (MT5):"
   ]
  },
  {
   "cell_type": "markdown",
   "metadata": {
    "id": "OmWQ-nze234d",
    "papermill": {
     "duration": 0.085882,
     "end_time": "2021-05-28T00:39:08.69089",
     "exception": false,
     "start_time": "2021-05-28T00:39:08.605008",
     "status": "completed"
    },
    "tags": []
   },
   "source": [
    "**Preprocess Test set for MT5**"
   ]
  },
  {
   "cell_type": "code",
   "execution_count": 37,
   "metadata": {
    "execution": {
     "iopub.execute_input": "2021-08-16T00:52:54.853097Z",
     "iopub.status.busy": "2021-08-16T00:52:54.852744Z",
     "iopub.status.idle": "2021-08-16T00:52:54.858457Z",
     "shell.execute_reply": "2021-08-16T00:52:54.857256Z",
     "shell.execute_reply.started": "2021-08-16T00:52:54.853065Z"
    }
   },
   "outputs": [],
   "source": [
    "test[\"prefix\"] = \"\""
   ]
  },
  {
   "cell_type": "code",
   "execution_count": 38,
   "metadata": {
    "execution": {
     "iopub.execute_input": "2021-08-16T00:53:06.888485Z",
     "iopub.status.busy": "2021-08-16T00:53:06.888110Z",
     "iopub.status.idle": "2021-08-16T00:53:06.895854Z",
     "shell.execute_reply": "2021-08-16T00:53:06.894746Z",
     "shell.execute_reply.started": "2021-08-16T00:53:06.888452Z"
    }
   },
   "outputs": [],
   "source": [
    "test = test.rename(columns = {'Yoruba' : 'input_text'})"
   ]
  },
  {
   "cell_type": "code",
   "execution_count": 39,
   "metadata": {
    "execution": {
     "iopub.execute_input": "2021-08-16T00:53:18.629115Z",
     "iopub.status.busy": "2021-08-16T00:53:18.628764Z",
     "iopub.status.idle": "2021-08-16T00:53:18.638547Z",
     "shell.execute_reply": "2021-08-16T00:53:18.637661Z",
     "shell.execute_reply.started": "2021-08-16T00:53:18.629082Z"
    }
   },
   "outputs": [],
   "source": [
    "# Prepare the data for testing\n",
    "test_predict = [\n",
    "        prefix + \": \" + str(input_text)\n",
    "        for prefix, input_text in zip(test[\"prefix\"].tolist(), test[\"input_text\"].tolist())\n",
    "    ]"
   ]
  },
  {
   "cell_type": "code",
   "execution_count": 40,
   "metadata": {
    "execution": {
     "iopub.execute_input": "2021-08-16T00:53:30.569261Z",
     "iopub.status.busy": "2021-08-16T00:53:30.568908Z",
     "iopub.status.idle": "2021-08-16T01:13:26.818469Z",
     "shell.execute_reply": "2021-08-16T01:13:26.817504Z",
     "shell.execute_reply.started": "2021-08-16T00:53:30.569229Z"
    }
   },
   "outputs": [
    {
     "data": {
      "application/vnd.jupyter.widget-view+json": {
       "model_id": "a2ef000317be4a4994cde7e2363cee25",
       "version_major": 2,
       "version_minor": 0
      },
      "text/plain": [
       "Generating outputs:   0%|          | 0/852 [00:00<?, ?it/s]"
      ]
     },
     "metadata": {},
     "output_type": "display_data"
    }
   ],
   "source": [
    "test['Label'] = full_model.predict(test_predict)"
   ]
  },
  {
   "cell_type": "code",
   "execution_count": 41,
   "metadata": {
    "execution": {
     "iopub.execute_input": "2021-08-16T01:13:26.820701Z",
     "iopub.status.busy": "2021-08-16T01:13:26.820298Z",
     "iopub.status.idle": "2021-08-16T01:13:26.825794Z",
     "shell.execute_reply": "2021-08-16T01:13:26.824803Z",
     "shell.execute_reply.started": "2021-08-16T01:13:26.820647Z"
    }
   },
   "outputs": [],
   "source": [
    "#Preprocess to remove semicolon\n",
    "\n",
    "def preprocess_mt5(df):\n",
    "\n",
    "  return re.sub(r'^:', \"\", df)"
   ]
  },
  {
   "cell_type": "code",
   "execution_count": 42,
   "metadata": {
    "execution": {
     "iopub.execute_input": "2021-08-16T01:13:26.828414Z",
     "iopub.status.busy": "2021-08-16T01:13:26.828076Z",
     "iopub.status.idle": "2021-08-16T01:13:26.859101Z",
     "shell.execute_reply": "2021-08-16T01:13:26.858007Z",
     "shell.execute_reply.started": "2021-08-16T01:13:26.828379Z"
    }
   },
   "outputs": [],
   "source": [
    "test['Label'] = test['Label'].apply(preprocess_mt5)"
   ]
  },
  {
   "cell_type": "code",
   "execution_count": 44,
   "metadata": {
    "execution": {
     "iopub.execute_input": "2021-08-16T01:13:44.992376Z",
     "iopub.status.busy": "2021-08-16T01:13:44.992003Z",
     "iopub.status.idle": "2021-08-16T01:13:45.010413Z",
     "shell.execute_reply": "2021-08-16T01:13:45.009293Z",
     "shell.execute_reply.started": "2021-08-16T01:13:44.992346Z"
    },
    "papermill": {
     "duration": 0.116334,
     "end_time": "2021-05-28T00:39:10.895081",
     "exception": false,
     "start_time": "2021-05-28T00:39:10.778747",
     "status": "completed"
    },
    "tags": []
   },
   "outputs": [
    {
     "data": {
      "text/html": [
       "<div>\n",
       "<style scoped>\n",
       "    .dataframe tbody tr th:only-of-type {\n",
       "        vertical-align: middle;\n",
       "    }\n",
       "\n",
       "    .dataframe tbody tr th {\n",
       "        vertical-align: top;\n",
       "    }\n",
       "\n",
       "    .dataframe thead th {\n",
       "        text-align: right;\n",
       "    }\n",
       "</style>\n",
       "<table border=\"1\" class=\"dataframe\">\n",
       "  <thead>\n",
       "    <tr style=\"text-align: right;\">\n",
       "      <th></th>\n",
       "      <th>input_text</th>\n",
       "      <th>Label</th>\n",
       "    </tr>\n",
       "  </thead>\n",
       "  <tbody>\n",
       "    <tr>\n",
       "      <th>0</th>\n",
       "      <td>Nínú ìpè kan lẹ́yìn ìgbà náà, wọ́n sọ fún aṣoj...</td>\n",
       "      <td>In a call later, the BlaBlaCar representative ...</td>\n",
       "    </tr>\n",
       "    <tr>\n",
       "      <th>1</th>\n",
       "      <td>Nítorí kò sí nǹkan tí ọkùnrin ò lè ṣe láì náán...</td>\n",
       "      <td>For there is nothing a man can do without bein...</td>\n",
       "    </tr>\n",
       "    <tr>\n",
       "      <th>2</th>\n",
       "      <td>Bí i kó pariwo. Kí ó kígbe mọ́ ẹ?</td>\n",
       "      <td>If he makes a noise, what will he say to you?</td>\n",
       "    </tr>\n",
       "    <tr>\n",
       "      <th>3</th>\n",
       "      <td>Tí ó ń lé e lọ sọ́nà etí odò Akókurà, tí ó bẹ̀...</td>\n",
       "      <td>which takes him to the coast of Akókurà, so th...</td>\n",
       "    </tr>\n",
       "    <tr>\n",
       "      <th>4</th>\n",
       "      <td>Èṣúńiyì mọ̀ iṣẹ́ rẹ̀ dunjú. Màmá tirí bí ó ṣe ...</td>\n",
       "      <td>The Ṣuńiyi knows his work well. Mother told he...</td>\n",
       "    </tr>\n",
       "    <tr>\n",
       "      <th>...</th>\n",
       "      <td>...</td>\n",
       "      <td>...</td>\n",
       "    </tr>\n",
       "    <tr>\n",
       "      <th>6811</th>\n",
       "      <td>(Ẹ̀rín) Ètò náà ti wá ń ṣiṣẹ́ ní àwọn orílẹ̀-è...</td>\n",
       "      <td>(Clue) The program has been operating in nine ...</td>\n",
       "    </tr>\n",
       "    <tr>\n",
       "      <th>6812</th>\n",
       "      <td>Ẹtúra ká.</td>\n",
       "      <td>The leopard covers the ground.</td>\n",
       "    </tr>\n",
       "    <tr>\n",
       "      <th>6813</th>\n",
       "      <td>Ní báyìí, ní àfikún Ebola àti awuyewuye ọ̀rọ̀ ...</td>\n",
       "      <td>Now, in addition to Ebola and the growing deba...</td>\n",
       "    </tr>\n",
       "    <tr>\n",
       "      <th>6814</th>\n",
       "      <td>Ṣé mo yà ẹ́ lẹ́nu lọ́nàkọnà? Pẹ̀lẹ́ pẹ̀lẹ́.</td>\n",
       "      <td>Do I easily stumble you? Very gentle.</td>\n",
       "    </tr>\n",
       "    <tr>\n",
       "      <th>6815</th>\n",
       "      <td>Nǹkan tí ó kù fún Màmá láti ṣe ni kí ó lọ sídì...</td>\n",
       "      <td>What Mother had to do was to go to the table a...</td>\n",
       "    </tr>\n",
       "  </tbody>\n",
       "</table>\n",
       "<p>6816 rows × 2 columns</p>\n",
       "</div>"
      ],
      "text/plain": [
       "                                             input_text  \\\n",
       "0     Nínú ìpè kan lẹ́yìn ìgbà náà, wọ́n sọ fún aṣoj...   \n",
       "1     Nítorí kò sí nǹkan tí ọkùnrin ò lè ṣe láì náán...   \n",
       "2                     Bí i kó pariwo. Kí ó kígbe mọ́ ẹ?   \n",
       "3     Tí ó ń lé e lọ sọ́nà etí odò Akókurà, tí ó bẹ̀...   \n",
       "4     Èṣúńiyì mọ̀ iṣẹ́ rẹ̀ dunjú. Màmá tirí bí ó ṣe ...   \n",
       "...                                                 ...   \n",
       "6811  (Ẹ̀rín) Ètò náà ti wá ń ṣiṣẹ́ ní àwọn orílẹ̀-è...   \n",
       "6812                                          Ẹtúra ká.   \n",
       "6813  Ní báyìí, ní àfikún Ebola àti awuyewuye ọ̀rọ̀ ...   \n",
       "6814        Ṣé mo yà ẹ́ lẹ́nu lọ́nàkọnà? Pẹ̀lẹ́ pẹ̀lẹ́.   \n",
       "6815  Nǹkan tí ó kù fún Màmá láti ṣe ni kí ó lọ sídì...   \n",
       "\n",
       "                                                  Label  \n",
       "0     In a call later, the BlaBlaCar representative ...  \n",
       "1     For there is nothing a man can do without bein...  \n",
       "2         If he makes a noise, what will he say to you?  \n",
       "3     which takes him to the coast of Akókurà, so th...  \n",
       "4     The Ṣuńiyi knows his work well. Mother told he...  \n",
       "...                                                 ...  \n",
       "6811  (Clue) The program has been operating in nine ...  \n",
       "6812                     The leopard covers the ground.  \n",
       "6813  Now, in addition to Ebola and the growing deba...  \n",
       "6814              Do I easily stumble you? Very gentle.  \n",
       "6815  What Mother had to do was to go to the table a...  \n",
       "\n",
       "[6816 rows x 2 columns]"
      ]
     },
     "execution_count": 44,
     "metadata": {},
     "output_type": "execute_result"
    }
   ],
   "source": [
    "#Checking model translations\n",
    "\n",
    "test[['input_text', 'Label']]"
   ]
  },
  {
   "cell_type": "code",
   "execution_count": null,
   "metadata": {},
   "outputs": [],
   "source": []
  }
 ],
 "metadata": {
  "kernelspec": {
   "display_name": "Python 3",
   "language": "python",
   "name": "python3"
  },
  "language_info": {
   "codemirror_mode": {
    "name": "ipython",
    "version": 3
   },
   "file_extension": ".py",
   "mimetype": "text/x-python",
   "name": "python",
   "nbconvert_exporter": "python",
   "pygments_lexer": "ipython3",
   "version": "3.6.11"
  }
 },
 "nbformat": 4,
 "nbformat_minor": 4
}
